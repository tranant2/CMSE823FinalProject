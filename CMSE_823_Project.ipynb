{
  "cells": [
    {
      "cell_type": "markdown",
      "metadata": {
        "id": "view-in-github",
        "colab_type": "text"
      },
      "source": [
        "<a href=\"https://colab.research.google.com/github/tranant2/CMSE823FinalProject/blob/main/CMSE_823_Project.ipynb\" target=\"_parent\"><img src=\"https://colab.research.google.com/assets/colab-badge.svg\" alt=\"Open In Colab\"/></a>"
      ]
    },
    {
      "cell_type": "code",
      "execution_count": null,
      "metadata": {
        "colab": {
          "base_uri": "https://localhost:8080/"
        },
        "id": "ax9hHCwr5qCs",
        "outputId": "08168260-3a75-41ce-89fd-66309e3f7c1c"
      },
      "outputs": [
        {
          "output_type": "stream",
          "name": "stdout",
          "text": [
            "Collecting qiskit\n",
            "  Downloading qiskit-0.36.1.tar.gz (13 kB)\n",
            "Collecting qiskit-terra==0.20.1\n",
            "  Downloading qiskit_terra-0.20.1-cp37-cp37m-manylinux_2_17_x86_64.manylinux2014_x86_64.whl (6.5 MB)\n",
            "\u001b[K     |████████████████████████████████| 6.5 MB 8.9 MB/s \n",
            "\u001b[?25hCollecting qiskit-aer==0.10.4\n",
            "  Downloading qiskit_aer-0.10.4-cp37-cp37m-manylinux_2_12_x86_64.manylinux2010_x86_64.whl (18.0 MB)\n",
            "\u001b[K     |████████████████████████████████| 18.0 MB 1.2 MB/s \n",
            "\u001b[?25hCollecting qiskit-ibmq-provider==0.19.1\n",
            "  Downloading qiskit_ibmq_provider-0.19.1-py3-none-any.whl (240 kB)\n",
            "\u001b[K     |████████████████████████████████| 240 kB 41.5 MB/s \n",
            "\u001b[?25hCollecting qiskit-ignis==0.7.0\n",
            "  Downloading qiskit_ignis-0.7.0-py3-none-any.whl (200 kB)\n",
            "\u001b[K     |████████████████████████████████| 200 kB 47.1 MB/s \n",
            "\u001b[?25hRequirement already satisfied: numpy>=1.16.3 in /usr/local/lib/python3.7/dist-packages (from qiskit-aer==0.10.4->qiskit) (1.21.6)\n",
            "Requirement already satisfied: scipy>=1.0 in /usr/local/lib/python3.7/dist-packages (from qiskit-aer==0.10.4->qiskit) (1.4.1)\n",
            "Collecting websockets>=10.0\n",
            "  Downloading websockets-10.3-cp37-cp37m-manylinux_2_5_x86_64.manylinux1_x86_64.manylinux_2_12_x86_64.manylinux2010_x86_64.whl (112 kB)\n",
            "\u001b[K     |████████████████████████████████| 112 kB 46.8 MB/s \n",
            "\u001b[?25hRequirement already satisfied: requests>=2.19 in /usr/local/lib/python3.7/dist-packages (from qiskit-ibmq-provider==0.19.1->qiskit) (2.23.0)\n",
            "Collecting websocket-client>=1.0.1\n",
            "  Downloading websocket_client-1.3.2-py3-none-any.whl (54 kB)\n",
            "\u001b[K     |████████████████████████████████| 54 kB 1.4 MB/s \n",
            "\u001b[?25hRequirement already satisfied: python-dateutil>=2.8.0 in /usr/local/lib/python3.7/dist-packages (from qiskit-ibmq-provider==0.19.1->qiskit) (2.8.2)\n",
            "Requirement already satisfied: urllib3>=1.21.1 in /usr/local/lib/python3.7/dist-packages (from qiskit-ibmq-provider==0.19.1->qiskit) (1.24.3)\n",
            "Collecting requests-ntlm>=1.1.0\n",
            "  Downloading requests_ntlm-1.1.0-py2.py3-none-any.whl (5.7 kB)\n",
            "Requirement already satisfied: setuptools>=40.1.0 in /usr/local/lib/python3.7/dist-packages (from qiskit-ignis==0.7.0->qiskit) (57.4.0)\n",
            "Collecting retworkx>=0.8.0\n",
            "  Downloading retworkx-0.11.0-cp37-cp37m-manylinux_2_5_x86_64.manylinux1_x86_64.manylinux_2_12_x86_64.manylinux2010_x86_64.whl (1.6 MB)\n",
            "\u001b[K     |████████████████████████████████| 1.6 MB 36.2 MB/s \n",
            "\u001b[?25hCollecting python-constraint>=1.4\n",
            "  Downloading python-constraint-1.4.0.tar.bz2 (18 kB)\n",
            "Collecting scipy>=1.0\n",
            "  Downloading scipy-1.7.3-cp37-cp37m-manylinux_2_12_x86_64.manylinux2010_x86_64.whl (38.1 MB)\n",
            "\u001b[K     |████████████████████████████████| 38.1 MB 1.7 MB/s \n",
            "\u001b[?25hCollecting stevedore>=3.0.0\n",
            "  Downloading stevedore-3.5.0-py3-none-any.whl (49 kB)\n",
            "\u001b[K     |████████████████████████████████| 49 kB 5.8 MB/s \n",
            "\u001b[?25hCollecting tweedledum<2.0,>=1.1\n",
            "  Downloading tweedledum-1.1.1-cp37-cp37m-manylinux_2_12_x86_64.manylinux2010_x86_64.whl (943 kB)\n",
            "\u001b[K     |████████████████████████████████| 943 kB 22.1 MB/s \n",
            "\u001b[?25hCollecting ply>=3.10\n",
            "  Downloading ply-3.11-py2.py3-none-any.whl (49 kB)\n",
            "\u001b[K     |████████████████████████████████| 49 kB 5.7 MB/s \n",
            "\u001b[?25hRequirement already satisfied: psutil>=5 in /usr/local/lib/python3.7/dist-packages (from qiskit-terra==0.20.1->qiskit) (5.4.8)\n",
            "Requirement already satisfied: sympy>=1.3 in /usr/local/lib/python3.7/dist-packages (from qiskit-terra==0.20.1->qiskit) (1.7.1)\n",
            "Requirement already satisfied: dill>=0.3 in /usr/local/lib/python3.7/dist-packages (from qiskit-terra==0.20.1->qiskit) (0.3.4)\n",
            "Collecting symengine>=0.9\n",
            "  Downloading symengine-0.9.2-cp37-cp37m-manylinux2010_x86_64.whl (37.5 MB)\n",
            "\u001b[K     |████████████████████████████████| 37.5 MB 1.2 MB/s \n",
            "\u001b[?25hRequirement already satisfied: six>=1.5 in /usr/local/lib/python3.7/dist-packages (from python-dateutil>=2.8.0->qiskit-ibmq-provider==0.19.1->qiskit) (1.15.0)\n",
            "Requirement already satisfied: certifi>=2017.4.17 in /usr/local/lib/python3.7/dist-packages (from requests>=2.19->qiskit-ibmq-provider==0.19.1->qiskit) (2021.10.8)\n",
            "Requirement already satisfied: chardet<4,>=3.0.2 in /usr/local/lib/python3.7/dist-packages (from requests>=2.19->qiskit-ibmq-provider==0.19.1->qiskit) (3.0.4)\n",
            "Requirement already satisfied: idna<3,>=2.5 in /usr/local/lib/python3.7/dist-packages (from requests>=2.19->qiskit-ibmq-provider==0.19.1->qiskit) (2.10)\n",
            "Collecting cryptography>=1.3\n",
            "  Downloading cryptography-37.0.2-cp36-abi3-manylinux_2_24_x86_64.whl (4.0 MB)\n",
            "\u001b[K     |████████████████████████████████| 4.0 MB 41.9 MB/s \n",
            "\u001b[?25hCollecting ntlm-auth>=1.0.2\n",
            "  Downloading ntlm_auth-1.5.0-py2.py3-none-any.whl (29 kB)\n",
            "Requirement already satisfied: cffi>=1.12 in /usr/local/lib/python3.7/dist-packages (from cryptography>=1.3->requests-ntlm>=1.1.0->qiskit-ibmq-provider==0.19.1->qiskit) (1.15.0)\n",
            "Requirement already satisfied: pycparser in /usr/local/lib/python3.7/dist-packages (from cffi>=1.12->cryptography>=1.3->requests-ntlm>=1.1.0->qiskit-ibmq-provider==0.19.1->qiskit) (2.21)\n",
            "Collecting pbr!=2.1.0,>=2.0.0\n",
            "  Downloading pbr-5.8.1-py2.py3-none-any.whl (113 kB)\n",
            "\u001b[K     |████████████████████████████████| 113 kB 72.2 MB/s \n",
            "\u001b[?25hRequirement already satisfied: importlib-metadata>=1.7.0 in /usr/local/lib/python3.7/dist-packages (from stevedore>=3.0.0->qiskit-terra==0.20.1->qiskit) (4.11.3)\n",
            "Requirement already satisfied: zipp>=0.5 in /usr/local/lib/python3.7/dist-packages (from importlib-metadata>=1.7.0->stevedore>=3.0.0->qiskit-terra==0.20.1->qiskit) (3.8.0)\n",
            "Requirement already satisfied: typing-extensions>=3.6.4 in /usr/local/lib/python3.7/dist-packages (from importlib-metadata>=1.7.0->stevedore>=3.0.0->qiskit-terra==0.20.1->qiskit) (4.2.0)\n",
            "Requirement already satisfied: mpmath>=0.19 in /usr/local/lib/python3.7/dist-packages (from sympy>=1.3->qiskit-terra==0.20.1->qiskit) (1.2.1)\n",
            "Building wheels for collected packages: qiskit, python-constraint\n",
            "  Building wheel for qiskit (setup.py) ... \u001b[?25l\u001b[?25hdone\n",
            "  Created wheel for qiskit: filename=qiskit-0.36.1-py3-none-any.whl size=11887 sha256=10fcdb7986a63e8c63e7b8130266b012442180cb04a13855ff4c5d39a9298f2f\n",
            "  Stored in directory: /root/.cache/pip/wheels/16/d2/58/340c0b0c7701a58b596126e5eb31c347c8dbfda8b949a555bd\n",
            "  Building wheel for python-constraint (setup.py) ... \u001b[?25l\u001b[?25hdone\n",
            "  Created wheel for python-constraint: filename=python_constraint-1.4.0-py2.py3-none-any.whl size=24081 sha256=84c6df1e9b9427ec3f3e690cb6c7500b2f7b95dcbe87de7a06a1b243d2943b76\n",
            "  Stored in directory: /root/.cache/pip/wheels/07/27/db/1222c80eb1e431f3d2199c12569cb1cac60f562a451fe30479\n",
            "Successfully built qiskit python-constraint\n",
            "Installing collected packages: pbr, tweedledum, symengine, stevedore, scipy, retworkx, python-constraint, ply, ntlm-auth, cryptography, websockets, websocket-client, requests-ntlm, qiskit-terra, qiskit-ignis, qiskit-ibmq-provider, qiskit-aer, qiskit\n",
            "  Attempting uninstall: scipy\n",
            "    Found existing installation: scipy 1.4.1\n",
            "    Uninstalling scipy-1.4.1:\n",
            "      Successfully uninstalled scipy-1.4.1\n",
            "\u001b[31mERROR: pip's dependency resolver does not currently take into account all the packages that are installed. This behaviour is the source of the following dependency conflicts.\n",
            "albumentations 0.1.12 requires imgaug<0.2.7,>=0.2.5, but you have imgaug 0.2.9 which is incompatible.\u001b[0m\n",
            "Successfully installed cryptography-37.0.2 ntlm-auth-1.5.0 pbr-5.8.1 ply-3.11 python-constraint-1.4.0 qiskit-0.36.1 qiskit-aer-0.10.4 qiskit-ibmq-provider-0.19.1 qiskit-ignis-0.7.0 qiskit-terra-0.20.1 requests-ntlm-1.1.0 retworkx-0.11.0 scipy-1.7.3 stevedore-3.5.0 symengine-0.9.2 tweedledum-1.1.1 websocket-client-1.3.2 websockets-10.3\n"
          ]
        }
      ],
      "source": [
        "!pip install qiskit"
      ]
    },
    {
      "cell_type": "code",
      "execution_count": null,
      "metadata": {
        "colab": {
          "base_uri": "https://localhost:8080/"
        },
        "id": "S2sWaEzJrpU0",
        "outputId": "d2bafc56-4500-44f5-c38b-7d0bbbf43492"
      },
      "outputs": [
        {
          "output_type": "stream",
          "name": "stderr",
          "text": [
            "/usr/local/lib/python3.7/dist-packages/ipykernel_launcher.py:13: DeprecationWarning: The qiskit.ignis package is deprecated and has been supersceded by the qiskit-experiments project. Refer to the migration guide: https://github.com/Qiskit/qiskit-ignis#migration-guide on how to migrate to the new project.\n",
            "  del sys.path[0]\n"
          ]
        }
      ],
      "source": [
        "import numpy as np\n",
        "from numpy import linalg as LA\n",
        "import matplotlib.pyplot as plt\n",
        "import time\n",
        "\n",
        "\n",
        "import qiskit\n",
        "from qiskit import QuantumRegister, QuantumCircuit, ClassicalRegister, Aer\n",
        "from qiskit.providers.aer import noise\n",
        "from qiskit.providers.aer.noise import NoiseModel\n",
        "from qiskit.tools.visualization import *\n",
        "from qiskit import IBMQ\n",
        "from qiskit.ignis.mitigation.measurement import (complete_meas_cal, tensored_meas_cal,\n",
        "                                                 CompleteMeasFitter, TensoredMeasFitter)"
      ]
    },
    {
      "cell_type": "markdown",
      "metadata": {
        "id": "cNe9yzOfrxtQ"
      },
      "source": [
        "#Data Generation"
      ]
    },
    {
      "cell_type": "code",
      "execution_count": null,
      "metadata": {
        "id": "qRG8YMuMr6OX"
      },
      "outputs": [],
      "source": [
        "def getDataset(N, m, n):\n",
        "  return (np.random.rand(m*n*N)).reshape(-1,m,n)  \n",
        "\n",
        "def Data(N,m,n):\n",
        "  \"\"\"\n",
        "  TODO: Currently, it's not allowing any matrixes larger than 32x64 to be made singular\n",
        "  Same as getDataset, but check to make sure matrices are all non-singular.\n",
        "  All values in matrices are random numbers less than 1.\n",
        "  Input:\n",
        "  N: number of matrices wanted\n",
        "  m,n: size of matrix\n",
        "\n",
        "  Output:\n",
        "  N (mxn) matrices.\n",
        "  \"\"\"\n",
        "  mat = []\n",
        "  A = (np.random.rand(m*n*N)).reshape(-1,m,n)\n",
        "  for i in range(len(A)):\n",
        "    while LA.det(A[i].T@A[i])==0:\n",
        "      A[i] = (np.random.rand(m*n)).reshape(m,n) \n",
        "    mat.append(A[i])\n",
        "  return mat\n",
        "\n",
        "def get_Data_avg_time(N,m,n):\n",
        "  \"\"\"\n",
        "  Return average time to create each matrix\n",
        "  and the dataset\n",
        "  \"\"\"\n",
        "  t0 = time.time_ns()\n",
        "  #setmxn = Data(N, m, n)\n",
        "  setmxn = getDataset(N, m, n)*.9  # make dataset less than .9\n",
        "  t1 = time.time_ns()\n",
        "  avg = (t1-t0)/(N)*1e-9\n",
        "  return setmxn, avg"
      ]
    },
    {
      "cell_type": "code",
      "execution_count": null,
      "metadata": {
        "id": "VYww5URdsIoz"
      },
      "outputs": [],
      "source": [
        "# size\n",
        "n = 10000\n",
        "n2 = 1000\n",
        "n = 1000\n",
        "n2 = 100"
      ]
    },
    {
      "cell_type": "code",
      "execution_count": null,
      "metadata": {
        "id": "j5wN4pQlmWtQ"
      },
      "outputs": [],
      "source": [
        "nxn_size = [n,n,n,n2,n2,n2]\n",
        "mxn_size = [n,n,n,n,n2,n2,n2]"
      ]
    },
    {
      "cell_type": "markdown",
      "metadata": {
        "id": "cgXVotJtr07N"
      },
      "source": [
        "##nxn"
      ]
    },
    {
      "cell_type": "code",
      "execution_count": null,
      "metadata": {
        "colab": {
          "base_uri": "https://localhost:8080/"
        },
        "id": "yKLnDdWgsLyv",
        "outputId": "7148d29a-5241-4705-9b49-f0a092ecdfb7"
      },
      "outputs": [
        {
          "output_type": "stream",
          "name": "stdout",
          "text": [
            "CPU times: user 515 ms, sys: 177 ms, total: 692 ms\n",
            "Wall time: 771 ms\n"
          ]
        }
      ],
      "source": [
        "%%time \n",
        "# This give the time of the whole cell\n",
        "\n",
        "avgnxn = [None]*6\n",
        "\n",
        "set4x4, avgnxn[0] = get_Data_avg_time(n,4,4)\n",
        "set16x16, avgnxn[1] = get_Data_avg_time(n,16,16)\n",
        "set64x64, avgnxn[2] = get_Data_avg_time(n,64,64)\n",
        "set128x128, avgnxn[3] = get_Data_avg_time(n2,128,128)\n",
        "set256x256, avgnxn[4] = get_Data_avg_time(n2,256,256)\n",
        "set512x512, avgnxn[5] = get_Data_avg_time(n2,512,512)"
      ]
    },
    {
      "cell_type": "code",
      "execution_count": null,
      "metadata": {
        "colab": {
          "base_uri": "https://localhost:8080/",
          "height": 299
        },
        "id": "yO2y4Ceuxb4p",
        "outputId": "d38da8d5-0ed1-4dd3-da8b-0e6790e1f867"
      },
      "outputs": [
        {
          "output_type": "display_data",
          "data": {
            "text/plain": [
              "<Figure size 432x288 with 1 Axes>"
            ],
            "image/png": "[encoded data removed]"
          },
          "metadata": {
            "needs_background": "light"
          }
        }
      ],
      "source": [
        "x = np.array([4,16,64,128,256,512])**2  # x axis is the number of elements\n",
        "plt.scatter(x, avgnxn)  # Plot of average time to create a matrix\n",
        "plt.xscale('log')\n",
        "plt.yscale('log')\n",
        "plt.xlabel('Number of Elements per Matrix')\n",
        "plt.ylabel('Time in Seconds to create a Matrix')\n",
        "plt.title(\"Average Time to Create a Square Matrix\")\n",
        "plt.savefig(\"nxn_averagemake_time.png\", dpi=300)"
      ]
    },
    {
      "cell_type": "code",
      "execution_count": null,
      "metadata": {
        "id": "czzjSdUmkqdY"
      },
      "outputs": [],
      "source": [
        "nxn_data = [set4x4,set16x16,set64x64,set128x128,set256x256,set512x512]"
      ]
    },
    {
      "cell_type": "markdown",
      "metadata": {
        "id": "7YI1KGwlr3Sl"
      },
      "source": [
        "##mxn"
      ]
    },
    {
      "cell_type": "code",
      "execution_count": null,
      "metadata": {
        "colab": {
          "base_uri": "https://localhost:8080/"
        },
        "id": "MLGLPFwRr2zc",
        "outputId": "226076f1-a0bd-4cbc-ceb5-225abb400104"
      },
      "outputs": [
        {
          "output_type": "stream",
          "name": "stdout",
          "text": [
            "CPU times: user 291 ms, sys: 48.8 ms, total: 340 ms\n",
            "Wall time: 361 ms\n"
          ]
        }
      ],
      "source": [
        "%%time\n",
        "\n",
        "avgmxn = [None]*7\n",
        "\n",
        "# set2x4, avgmxn[0] = get_Data_avg_time(n,2,4)\n",
        "# set4x16, avgmxn[1] = get_Data_avg_time(n,4,16)\n",
        "# set16x32, avgmxn[2] = get_Data_avg_time(n,16,32)\n",
        "# set32x64, avgmxn[3] = get_Data_avg_time(n,32,64)\n",
        "# set64x128, avgmxn[4] = get_Data_avg_time(n2,64,128)\n",
        "# set128x256, avgmxn[5] = get_Data_avg_time(n2,128,256)\n",
        "# set256x512, avgmxn[6] = get_Data_avg_time(n2,256,512)\n",
        "\n",
        "set4x2, avgmxn[0] = get_Data_avg_time(n,4,2)\n",
        "set16x4, avgmxn[1] = get_Data_avg_time(n,16,4)\n",
        "set32x16, avgmxn[2] = get_Data_avg_time(n,32,16)\n",
        "set64x32, avgmxn[3] = get_Data_avg_time(n,64,32)\n",
        "set128x64, avgmxn[4] = get_Data_avg_time(n2,128,64)\n",
        "set256x128, avgmxn[5] = get_Data_avg_time(n2,256,128)\n",
        "set512x256, avgmxn[6] = get_Data_avg_time(n2,512,256)"
      ]
    },
    {
      "cell_type": "code",
      "execution_count": null,
      "metadata": {
        "id": "pM4w1Vvvk4Fk"
      },
      "outputs": [],
      "source": [
        "mxn_data = [set4x2, set16x4, set32x16, set64x32, set128x64, set256x128, set512x256]"
      ]
    },
    {
      "cell_type": "code",
      "execution_count": null,
      "metadata": {
        "colab": {
          "base_uri": "https://localhost:8080/",
          "height": 299
        },
        "id": "LpgYzqCkyJR-",
        "outputId": "92ef709a-5a31-41d5-b180-479960a5db74"
      },
      "outputs": [
        {
          "output_type": "display_data",
          "data": {
            "text/plain": [
              "<Figure size 432x288 with 1 Axes>"
            ],
            "image/png": "[encoded data removed]"
          },
          "metadata": {
            "needs_background": "light"
          }
        }
      ],
      "source": [
        "x = np.array([2,4,16,32,64,128,256])*np.array([4,16,32,64,128,256,512])\n",
        "plt.scatter(x, avgmxn)\n",
        "plt.xscale('log')\n",
        "plt.yscale('log')\n",
        "plt.xlabel('Number of Elements per Matrix')\n",
        "plt.ylabel('Time in Seconds to create a Matrix')\n",
        "plt.title(\"Average Time to Create a Rectangular Matrix\")\n",
        "plt.savefig(\"mxn_averagemake_time.png\", dpi=300)"
      ]
    },
    {
      "cell_type": "markdown",
      "metadata": {
        "id": "V8pY9P8vsq08"
      },
      "source": [
        "#Psudo-inverses"
      ]
    },
    {
      "cell_type": "markdown",
      "metadata": {
        "id": "gCC08DcgtMb_"
      },
      "source": [
        "##QR/Cholesky/LUP/SVD\n",
        "\n",
        "The following shows how to get the psudo-inverses for the different algorithms.\n",
        "\n",
        "###QR\n",
        "$A^+=(A^*A)^{-1}A^*$\n",
        "\n",
        "$A^*A=QR$\n",
        "\n",
        "$(A^*A)^{-1}=R^{-1}Q^*$\n",
        "\n",
        "$A^+=R^{-1}Q^*A^*$\n",
        "\n",
        "###Cholesky\n",
        "$A^+=(A^*A)^{-1}A^*$\n",
        "\n",
        "$A^*A=LU$\n",
        "\n",
        "$A^+=U^{-1}L^{-1}A^*$\n",
        "\n",
        "###LU\n",
        "$A^+=(A^*A)^{-1}A^*$\n",
        "\n",
        "$A=LU$\n",
        "\n",
        "$A^*=U^*L^*$\n",
        "\n",
        "$A^+=(U^*L^*LU)^{-1}U^*L^*$\n",
        "\n",
        "$=U^{-1}L^{-1}$\n",
        "\n",
        "### LUP\n",
        "\n",
        "With pivoting we get PA=LU. Since $P^TP=I$, we can do similar calculations\n",
        "\n",
        "$A^+=(A^*A)^{-1}A^*$\n",
        "\n",
        "$P(A^*A)=LU$\n",
        "\n",
        "$(A^*A)^{-1}=U^{-1}L^{-1}P$\n",
        "\n",
        "$A^+=U^{-1}L^{-1}PA^*$\n",
        "\n",
        "###SVD\n",
        "1. Form $AA^*$\n",
        "2. Compute the eigenvalue decomposion of $A^*A=V\\Lambda V^*$\n",
        "3. Let $\\Sigma$ be the $mxn$ nonnegative diagonal square root of $\\Lambda$\n",
        "4. Solve the system $U\\Sigma=AV$ for unitary $U$\n",
        "\n",
        "$A = U\\Sigma V^*$\n",
        "\n",
        "$A^* = V\\Sigma^{-1}U$"
      ]
    },
    {
      "cell_type": "code",
      "execution_count": null,
      "metadata": {
        "id": "OtSez-FitlDR"
      },
      "outputs": [],
      "source": [
        "def SVD(M):\n",
        "  \"\"\"\n",
        "  Calculate Standard Value Decomposition using direct method.\n",
        "  \"\"\"\n",
        "  w,v = LA.eig(M.T@M)\n",
        "  mask = np.argsort(w)\n",
        "  mask = mask[::-1]\n",
        "  w = w[mask]\n",
        "  v = v[:,mask] \n",
        "  sigma = np.sqrt(np.abs(w))\n",
        "  Sigma = np.zeros(M.shape)\n",
        "  SigmaInv = np.zeros(M.shape[::-1])\n",
        "  for i in range(np.min(Sigma.shape)):\n",
        "    Sigma[i,i] = sigma[i]\n",
        "    SigmaInv[i,i] = 1/sigma[i] \n",
        "  u = M@v@SigmaInv\n",
        "  return u,sigma,np.conj(v.T)\n",
        "\n",
        "def getInvSVD(M):\n",
        "  \"\"\"\n",
        "  Calculate the inverse of the SVD by first creating the inverse of the\n",
        "  sigma matrix directly, then multiply by V and U accordingly.\n",
        "  \"\"\"\n",
        "  U,S,VT = SVD(M)\n",
        "  shape = M.shape\n",
        "  S_ = np.zeros((shape[::-1]))\n",
        "  for i in range(np.min(M.shape)):\n",
        "    S_[i,i] = 1/S[i]\n",
        "  return np.real(np.conj(VT.T)@S_@np.conj(U.T))\n",
        "  \n",
        "def mgs(A):\n",
        "\t\"\"\"Modified Gram-Schmidt algorithm\"\"\"\n",
        "\tm = np.shape(A)[0]\n",
        "\tn = np.shape(A)[1]\n",
        "\tQ =  np.zeros((m, n))\n",
        "\tR =  np.zeros((n, n)) \n",
        "\tfor j in range(n):\n",
        "\t\tv = A[:,j]\n",
        "\t\tfor i in range(j):\n",
        "\t\t\tR[i,j] = np.dot(Q[:,i].T,A[:,j])\n",
        "\t\t\tv = v - np.dot(Q[:,i],R[i,j])\n",
        "\t\tR[j,j] =  np.linalg.norm(v)\n",
        "\t\tQ[:,j] = (v/R[j,j])\n",
        "\treturn Q,R\n",
        "\n",
        "def getQRpinv(A):\n",
        "  \"\"\"Get psuedo-inverse from QR\"\"\"\n",
        "  Q,R = mgs(A.T@A)\n",
        "  return LA.inv(R)@Q.T@A.T\n",
        "\n",
        "def getQRinv(A):\n",
        "  \"\"\"Get inverse from QR\"\"\"\n",
        "  Q,R = mgs(A)\n",
        "  return LA.inv(R)@Q.T\n",
        "\n",
        "def choleskyD(A):\n",
        "  \"\"\"Cholesky Decomposition\"\"\"\n",
        "  n = A.shape[0]\n",
        "  L = np.zeros((n, n), dtype=np.double)\n",
        "  for i in range(n):\n",
        "    for k in range(i+1):\n",
        "        tmp_sum = sum(L[i][j] * L[k][j] for j in range(k))\n",
        "        if (i == k): \n",
        "            L[i][k] = np.sqrt(np.real(A[i][i] - tmp_sum))\n",
        "        else:\n",
        "            L[i][k] = (1.0 / L[k][k] * (A[i][k] - tmp_sum))\n",
        "  return L\n",
        "\n",
        "def cholesky(A):\n",
        "  \"\"\"Get psuedo-inverse from Cholesky\"\"\"\n",
        "  L = choleskyD(A.T@A)\n",
        "  return LA.inv(L@L.T)@A.T\n",
        "\n",
        "def LU(H):  # Actually works for nxm as well\n",
        "    \"\"\"\n",
        "    Implementation of LU factorization\n",
        "    \"\"\"\n",
        "    m = H.shape[0]\n",
        "    n = H.shape[1]\n",
        "    L = np.eye(m)\n",
        "    U = np.matrix.copy(H)\n",
        "    for k in range(n-1):\n",
        "        for j in range(k+1,m):\n",
        "            L[j,k] = U[j,k]/U[k,k]\n",
        "            U[j,k:] = U[j,k:] - L[j,k]*U[k,k:]\n",
        "    return L,U\n",
        "\n",
        "def LUP(H):  # Add pivoting for stability\n",
        "  \"\"\"\n",
        "  Implementation of LU factorization with pivoting.\n",
        "  Assume square matrix else,\n",
        "  Assumes first index is less than second index. m<n\n",
        "  so doesn't work on all rectangular matrices\n",
        "  \"\"\"\n",
        "  m = H.shape[0]\n",
        "  n = H.shape[1]\n",
        "  L = np.eye(m)\n",
        "  P = np.eye(m)\n",
        "  U = np.matrix.copy(H)\n",
        "  for k in range(m-1): # to right\n",
        "    tempU = U[k:,k]\n",
        "    max_index = np.argmax(tempU)+k\n",
        "    U[[k,max_index],k:] = U[[max_index,k],k:] # switch rows\n",
        "    L[[k,max_index],:k] = L[[max_index,k],:k] # switch rows\n",
        "    P[[k,max_index],:] = P[[max_index,k],:] # switch rows\n",
        "    for j in range(k+1,m): # go down\n",
        "      L[j,k] = U[j,k]/U[k,k]\n",
        "      U[j,k:] = U[j,k:] - L[j,k]*U[k,k:]\n",
        "  return L,U,P\n",
        "\n",
        "def getLUPpinv(H):\n",
        "  \"\"\"Get psuedo-inverse from LUP\"\"\"\n",
        "  L,U,P = LUP(H.T@H)\n",
        "  return LA.inv(U)@LA.inv(L)@P@H.T\n",
        "\n",
        "def getLUPinv(H):\n",
        "  \"\"\"Get inverse from LUP\"\"\"\n",
        "  L,U,P = LUP(H)\n",
        "  return LA.inv(U)@LA.inv(L)@P"
      ]
    },
    {
      "cell_type": "markdown",
      "metadata": {
        "id": "p8KntkXQDsJR"
      },
      "source": [
        "Testing that the psudo-inverses works."
      ]
    },
    {
      "cell_type": "code",
      "execution_count": null,
      "metadata": {
        "colab": {
          "base_uri": "https://localhost:8080/",
          "height": 286
        },
        "id": "CChCSzyLEL5n",
        "outputId": "4e1efdff-bccf-4323-dce6-b8dc2443088b"
      },
      "outputs": [
        {
          "output_type": "execute_result",
          "data": {
            "text/plain": [
              "<matplotlib.colorbar.Colorbar at 0x7f88f22ed450>"
            ]
          },
          "metadata": {},
          "execution_count": 13
        },
        {
          "output_type": "display_data",
          "data": {
            "text/plain": [
              "<Figure size 432x288 with 2 Axes>"
            ],
            "image/png": "[encoded data removed]"
          },
          "metadata": {
            "needs_background": "light"
          }
        }
      ],
      "source": [
        "A = set64x32[1];\n",
        "A_ = getInvSVD(A)\n",
        "plt.imshow(A_@A)\n",
        "plt.colorbar()"
      ]
    },
    {
      "cell_type": "code",
      "execution_count": null,
      "metadata": {
        "colab": {
          "base_uri": "https://localhost:8080/",
          "height": 286
        },
        "id": "pX2CDNqEDyTT",
        "outputId": "02f554e1-394a-4e46-cd4b-f2f31a63621f"
      },
      "outputs": [
        {
          "output_type": "execute_result",
          "data": {
            "text/plain": [
              "<matplotlib.colorbar.Colorbar at 0x7f88efa31850>"
            ]
          },
          "metadata": {},
          "execution_count": 14
        },
        {
          "output_type": "display_data",
          "data": {
            "text/plain": [
              "<Figure size 432x288 with 2 Axes>"
            ],
            "image/png": "[encoded data removed]"
          },
          "metadata": {
            "needs_background": "light"
          }
        }
      ],
      "source": [
        "A = set64x32[1];\n",
        "A_ = getQRinv(A)\n",
        "plt.imshow(A_@A)\n",
        "plt.colorbar()"
      ]
    },
    {
      "cell_type": "code",
      "execution_count": null,
      "metadata": {
        "colab": {
          "base_uri": "https://localhost:8080/",
          "height": 286
        },
        "id": "xOAw4DgXNS3c",
        "outputId": "26a98979-82f4-4c9f-953a-50d54685ec55"
      },
      "outputs": [
        {
          "output_type": "execute_result",
          "data": {
            "text/plain": [
              "<matplotlib.colorbar.Colorbar at 0x7f88ef974990>"
            ]
          },
          "metadata": {},
          "execution_count": 15
        },
        {
          "output_type": "display_data",
          "data": {
            "text/plain": [
              "<Figure size 432x288 with 2 Axes>"
            ],
            "image/png": "[encoded data removed]"
          },
          "metadata": {
            "needs_background": "light"
          }
        }
      ],
      "source": [
        "A = set64x32[1];\n",
        "A_ = cholesky(A)\n",
        "plt.imshow(A_@A)\n",
        "plt.colorbar()"
      ]
    },
    {
      "cell_type": "code",
      "execution_count": null,
      "metadata": {
        "colab": {
          "base_uri": "https://localhost:8080/",
          "height": 286
        },
        "id": "aKMmkMn0N02l",
        "outputId": "bf406020-5ea2-48bc-b843-0ab01a585d4c"
      },
      "outputs": [
        {
          "output_type": "execute_result",
          "data": {
            "text/plain": [
              "<matplotlib.colorbar.Colorbar at 0x7f88ef94bed0>"
            ]
          },
          "metadata": {},
          "execution_count": 16
        },
        {
          "output_type": "display_data",
          "data": {
            "text/plain": [
              "<Figure size 432x288 with 2 Axes>"
            ],
            "image/png": "[encoded data removed]"
          },
          "metadata": {
            "needs_background": "light"
          }
        }
      ],
      "source": [
        "A = set64x32[1];\n",
        "A_ = getLUPpinv(A)\n",
        "plt.imshow(A_@A)\n",
        "plt.colorbar()"
      ]
    },
    {
      "cell_type": "code",
      "execution_count": null,
      "metadata": {
        "id": "LiJg8lXI6K31"
      },
      "outputs": [],
      "source": [
        "def get_psudeoInv_avg(x, mxn_size, mxn_data, f):\n",
        "  \"\"\"\n",
        "  function to calculate psudo-inverse and collact data on its average\n",
        "  x : x axis which tells the total number of elements for each dataset\n",
        "  mxnsize : array which contains the total number of matrices for each dataset\n",
        "  mxn_data : array which contains the dataset\n",
        "  f : function f(A)=A^-1, which calculates the psudeo-inverse a matrix at a time\n",
        "\n",
        "  Return:\n",
        "  inv_avg : avg time of each set\n",
        "  inv_data : the psudo-invereted matrices\n",
        "  \"\"\"\n",
        "  if len(x) != len(mxn_size):\n",
        "    print(\"x doesn't match mxn_size array\")\n",
        "    return \n",
        "  if len(mxn_data) != len(mxn_data):\n",
        "    print(\"dataset size doesn't match nsize\")\n",
        "    return \n",
        "  size = len(x)\n",
        "  inv_avg = [None]*size\n",
        "  inv_data = [None]*size\n",
        "  for i in range(size):\n",
        "    t0 = time.time_ns()\n",
        "    inv_data[i] = [f(i) for i in mxn_data[i]]\n",
        "    t1 = time.time_ns()\n",
        "    avg = (t1-t0)/(mxn_size[i])*1e-9\n",
        "    inv_avg[i] = avg\n",
        "    print(f\"avg of {i}th set: {avg} s\")\n",
        "  plt.scatter(x, inv_avg)  # Plot of average time to invert matrix\n",
        "  plt.xscale('log')\n",
        "  plt.yscale('log')\n",
        "  plt.xlabel('Number of Elements per Matrix')\n",
        "  plt.ylabel('Time in Seconds to create a Matrix')\n",
        "  plt.title(\"Average Time to Get Psudo-inverse\")\n",
        "  return inv_avg, inv_data"
      ]
    },
    {
      "cell_type": "markdown",
      "metadata": {
        "id": "g_sHfErUxn-E"
      },
      "source": [
        "###nxn"
      ]
    },
    {
      "cell_type": "code",
      "execution_count": null,
      "metadata": {
        "colab": {
          "base_uri": "https://localhost:8080/",
          "height": 403
        },
        "id": "i4khQdsE6PEV",
        "outputId": "18f80741-7bbe-4d1f-e0de-5985ee5066da"
      },
      "outputs": [
        {
          "output_type": "stream",
          "name": "stdout",
          "text": [
            "avg of 0th set: 0.00024301708600000003 s\n",
            "avg of 1th set: 0.000497999338 s\n",
            "avg of 2th set: 0.006262195975 s\n",
            "avg of 3th set: 0.03809404696 s\n",
            "avg of 4th set: 0.10156455782 s\n",
            "avg of 5th set: 0.39501674283 s\n"
          ]
        },
        {
          "output_type": "display_data",
          "data": {
            "text/plain": [
              "<Figure size 432x288 with 1 Axes>"
            ],
            "image/png": "[encoded data removed]"
          },
          "metadata": {
            "needs_background": "light"
          }
        }
      ],
      "source": [
        "x = np.array([4,16,64,128,256,512])**2\n",
        "invSVD_avg_nxn, invSVD_data_nxn = get_psudeoInv_avg(x, nxn_size, nxn_data, getInvSVD)"
      ]
    },
    {
      "cell_type": "code",
      "execution_count": null,
      "metadata": {
        "colab": {
          "base_uri": "https://localhost:8080/",
          "height": 403
        },
        "id": "TMbhZVqEuFus",
        "outputId": "0f6c0f49-9ba8-4a68-8595-b2191336f1df"
      },
      "outputs": [
        {
          "output_type": "stream",
          "name": "stdout",
          "text": [
            "avg of 0th set: 0.00011341941700000001 s\n",
            "avg of 1th set: 0.001665983797 s\n",
            "avg of 2th set: 0.06462117865400001 s\n",
            "avg of 3th set: 0.29859585539 s\n",
            "avg of 4th set: 1.90109727629 s\n",
            "avg of 5th set: 14.51284395089 s\n"
          ]
        },
        {
          "output_type": "display_data",
          "data": {
            "text/plain": [
              "<Figure size 432x288 with 1 Axes>"
            ],
            "image/png": "[encoded data removed]"
          },
          "metadata": {
            "needs_background": "light"
          }
        }
      ],
      "source": [
        "x = np.array([4,16,64,128,256,512])**2\n",
        "invcholesky_avg_nxn, invcholesky_data_nxn = get_psudeoInv_avg(x, nxn_size, nxn_data, cholesky)"
      ]
    },
    {
      "cell_type": "code",
      "execution_count": null,
      "metadata": {
        "colab": {
          "base_uri": "https://localhost:8080/",
          "height": 403
        },
        "id": "z50_LT2au5J0",
        "outputId": "541e7085-172a-4936-f6fa-c7a62316ce51"
      },
      "outputs": [
        {
          "output_type": "stream",
          "name": "stdout",
          "text": [
            "avg of 0th set: 0.00014983777900000003 s\n",
            "avg of 1th set: 0.001593078471 s\n",
            "avg of 2th set: 0.021619650204 s\n",
            "avg of 3th set: 0.09765598214 s\n",
            "avg of 4th set: 0.30081664639 s\n",
            "avg of 5th set: 1.74889708409 s\n"
          ]
        },
        {
          "output_type": "display_data",
          "data": {
            "text/plain": [
              "<Figure size 432x288 with 1 Axes>"
            ],
            "image/png": "[encoded data removed]"
          },
          "metadata": {
            "needs_background": "light"
          }
        }
      ],
      "source": [
        "x = np.array([4,16,64,128,256,512])**2\n",
        "invqr_avg_nxn, invqr_data_nxn = get_psudeoInv_avg(x, nxn_size, nxn_data, getQRinv)"
      ]
    },
    {
      "cell_type": "code",
      "execution_count": null,
      "metadata": {
        "colab": {
          "base_uri": "https://localhost:8080/",
          "height": 403
        },
        "id": "r4rJxTfeu5iM",
        "outputId": "602037ae-3278-488b-cd25-1c000986dc2b"
      },
      "outputs": [
        {
          "output_type": "stream",
          "name": "stdout",
          "text": [
            "avg of 0th set: 0.00023356687 s\n",
            "avg of 1th set: 0.0017609421730000001 s\n",
            "avg of 2th set: 0.017601258467000003 s\n",
            "avg of 3th set: 0.0675258885 s\n",
            "avg of 4th set: 0.21806313421 s\n",
            "avg of 5th set: 0.79113260203 s\n"
          ]
        },
        {
          "output_type": "display_data",
          "data": {
            "text/plain": [
              "<Figure size 432x288 with 1 Axes>"
            ],
            "image/png": "[encoded data removed]"
          },
          "metadata": {
            "needs_background": "light"
          }
        }
      ],
      "source": [
        "x = np.array([4,16,64,128,256,512])**2\n",
        "invLUP_avg_nxn, invLUP_data_nxn = get_psudeoInv_avg(x, nxn_size, nxn_data, getLUPinv)"
      ]
    },
    {
      "cell_type": "code",
      "source": [
        "x = np.array([4,16,64,128,256,512])**2\n",
        "inv_avg_nxn, inv_data_nxn = get_psudeoInv_avg(x, nxn_size, nxn_data, LA.inv)"
      ],
      "metadata": {
        "colab": {
          "base_uri": "https://localhost:8080/",
          "height": 403
        },
        "id": "omokXXzGTew0",
        "outputId": "dc64a79c-182b-44b9-9d8f-ccbfbc159566"
      },
      "execution_count": null,
      "outputs": [
        {
          "output_type": "stream",
          "name": "stdout",
          "text": [
            "avg of 0th set: 2.2045121e-05 s\n",
            "avg of 1th set: 2.5334418000000002e-05 s\n",
            "avg of 2th set: 0.000208793099 s\n",
            "avg of 3th set: 0.0010899270900000002 s\n",
            "avg of 4th set: 0.00504416097 s\n",
            "avg of 5th set: 0.02609356096 s\n"
          ]
        },
        {
          "output_type": "display_data",
          "data": {
            "text/plain": [
              "<Figure size 432x288 with 1 Axes>"
            ],
            "image/png": "[encoded data removed]"
          },
          "metadata": {
            "needs_background": "light"
          }
        }
      ]
    },
    {
      "cell_type": "code",
      "execution_count": null,
      "metadata": {
        "colab": {
          "base_uri": "https://localhost:8080/",
          "height": 316
        },
        "id": "2GWKctNBrFVB",
        "outputId": "6edeb1d7-60d8-4df0-b283-52b2295f2363"
      },
      "outputs": [
        {
          "output_type": "execute_result",
          "data": {
            "text/plain": [
              "<matplotlib.legend.Legend at 0x7f88ef914c10>"
            ]
          },
          "metadata": {},
          "execution_count": 23
        },
        {
          "output_type": "display_data",
          "data": {
            "text/plain": [
              "<Figure size 432x288 with 1 Axes>"
            ],
            "image/png": "[encoded data removed]"
          },
          "metadata": {
            "needs_background": "light"
          }
        }
      ],
      "source": [
        "plt.scatter(x, invSVD_avg_nxn, label = 'SVD')\n",
        "plt.scatter(x, invcholesky_avg_nxn, label = 'Cholesky')\n",
        "plt.scatter(x, invqr_avg_nxn, label = 'QR')\n",
        "plt.scatter(x, invLUP_avg_nxn, label = 'LUP')\n",
        "plt.scatter(x, inv_avg_nxn, label = 'Numpy')\n",
        "plt.xscale('log')\n",
        "plt.yscale('log')\n",
        "plt.xlabel('Number of Elements per Matrix')\n",
        "plt.ylabel('Time in Seconds to create a Matrix')\n",
        "plt.title(\"Average Time to Get Psudo-inverse\")\n",
        "plt.legend()"
      ]
    },
    {
      "cell_type": "markdown",
      "metadata": {
        "id": "BHH6o4Msxr7W"
      },
      "source": [
        "###mxn"
      ]
    },
    {
      "cell_type": "code",
      "execution_count": null,
      "metadata": {
        "colab": {
          "base_uri": "https://localhost:8080/",
          "height": 421
        },
        "id": "CNmsz8jN7t4L",
        "outputId": "c447cc56-3920-49e7-83b6-7bb8693d0fba"
      },
      "outputs": [
        {
          "output_type": "stream",
          "name": "stdout",
          "text": [
            "avg of 0th set: 0.000100939753 s\n",
            "avg of 1th set: 0.00012853844 s\n",
            "avg of 2th set: 0.000240646631 s\n",
            "avg of 3th set: 0.0006240284930000001 s\n",
            "avg of 4th set: 0.00435396038 s\n",
            "avg of 5th set: 0.02109240108 s\n",
            "avg of 6th set: 0.08644108391000001 s\n"
          ]
        },
        {
          "output_type": "display_data",
          "data": {
            "text/plain": [
              "<Figure size 432x288 with 1 Axes>"
            ],
            "image/png": "[encoded data removed]"
          },
          "metadata": {
            "needs_background": "light"
          }
        }
      ],
      "source": [
        "x = np.array([4,16,32,64,128,256,512]*np.array([2,4,16,32,64,128,256]))\n",
        "mxn_data = [set4x2, set16x4, set32x16, set64x32, set128x64, set256x128, set512x256]\n",
        "invSVD_avg_mxn, invSVD_data_mxn = get_psudeoInv_avg(x, mxn_size, mxn_data, getInvSVD)"
      ]
    },
    {
      "cell_type": "code",
      "execution_count": null,
      "metadata": {
        "colab": {
          "base_uri": "https://localhost:8080/",
          "height": 421
        },
        "id": "Yf7muszx5GRR",
        "outputId": "106d9aa6-3668-43e6-da31-33dd7c3b1401"
      },
      "outputs": [
        {
          "output_type": "stream",
          "name": "stdout",
          "text": [
            "avg of 0th set: 7.149498500000001e-05 s\n",
            "avg of 1th set: 0.000113715872 s\n",
            "avg of 2th set: 0.0016183711040000002 s\n",
            "avg of 3th set: 0.009162116456000001 s\n",
            "avg of 4th set: 0.06304457873 s\n",
            "avg of 5th set: 0.29950340649 s\n",
            "avg of 6th set: 1.9148486137200003 s\n"
          ]
        },
        {
          "output_type": "display_data",
          "data": {
            "text/plain": [
              "<Figure size 432x288 with 1 Axes>"
            ],
            "image/png": "[encoded data removed]"
          },
          "metadata": {
            "needs_background": "light"
          }
        }
      ],
      "source": [
        "x = np.array([2,4,16,32,64,128,256])*np.array([4,16,32,64,128,256,512])\n",
        "mxn_data = [set4x2, set16x4, set32x16, set64x32, set128x64, set256x128, set512x256]\n",
        "invcholesky_avg_mxn, invcholesky_data_mxn = get_psudeoInv_avg(x, mxn_size, mxn_data, cholesky)"
      ]
    },
    {
      "cell_type": "code",
      "execution_count": null,
      "metadata": {
        "colab": {
          "base_uri": "https://localhost:8080/",
          "height": 421
        },
        "id": "jeXnG3bX7uyX",
        "outputId": "40d4492c-3193-46a6-be6b-ae61860097de"
      },
      "outputs": [
        {
          "output_type": "stream",
          "name": "stdout",
          "text": [
            "avg of 0th set: 7.5629437e-05 s\n",
            "avg of 1th set: 0.00017214221800000002 s\n",
            "avg of 2th set: 0.0016623204150000002 s\n",
            "avg of 3th set: 0.005747633121 s\n",
            "avg of 4th set: 0.022797412700000002 s\n",
            "avg of 5th set: 0.10186434405 s\n",
            "avg of 6th set: 0.30890066996 s\n"
          ]
        },
        {
          "output_type": "display_data",
          "data": {
            "text/plain": [
              "<Figure size 432x288 with 1 Axes>"
            ],
            "image/png": "[encoded data removed]"
          },
          "metadata": {
            "needs_background": "light"
          }
        }
      ],
      "source": [
        "x = np.array([2,4,16,32,64,128,256])*np.array([4,16,32,64,128,256,512])\n",
        "mxn_data = [set4x2, set16x4, set32x16, set64x32, set128x64, set256x128, set512x256]\n",
        "invqr_avg_mxn, invqr_data_mxn = get_psudeoInv_avg(x, mxn_size, mxn_data, getQRpinv)"
      ]
    },
    {
      "cell_type": "code",
      "execution_count": null,
      "metadata": {
        "colab": {
          "base_uri": "https://localhost:8080/",
          "height": 421
        },
        "id": "ycebiVce7vSd",
        "outputId": "4d7248d7-1ab5-421f-d095-1e926c520a2b"
      },
      "outputs": [
        {
          "output_type": "stream",
          "name": "stdout",
          "text": [
            "avg of 0th set: 0.000120605114 s\n",
            "avg of 1th set: 0.00031454180699999997 s\n",
            "avg of 2th set: 0.0017672751180000002 s\n",
            "avg of 3th set: 0.004945217567 s\n",
            "avg of 4th set: 0.01767781806 s\n",
            "avg of 5th set: 0.06937626494 s\n",
            "avg of 6th set: 0.22490360184000002 s\n"
          ]
        },
        {
          "output_type": "display_data",
          "data": {
            "text/plain": [
              "<Figure size 432x288 with 1 Axes>"
            ],
            "image/png": "[encoded data removed]"
          },
          "metadata": {
            "needs_background": "light"
          }
        }
      ],
      "source": [
        "x = np.array([2,4,16,32,64,128,256])*np.array([4,16,32,64,128,256,512])\n",
        "mxn_data = [set4x2, set16x4, set32x16, set64x32, set128x64, set256x128, set512x256]\n",
        "invLUP_avg_mxn, invLUP_data_mxn = get_psudeoInv_avg(x, mxn_size, mxn_data, getLUPpinv)"
      ]
    },
    {
      "cell_type": "code",
      "source": [
        "x = np.array([2,4,16,32,64,128,256])*np.array([4,16,32,64,128,256,512])\n",
        "mxn_data = [set4x2, set16x4, set32x16, set64x32, set128x64, set256x128, set512x256]\n",
        "inv_avg_mxn, inv_data_mxn = get_psudeoInv_avg(x, mxn_size, mxn_data, LA.pinv)"
      ],
      "metadata": {
        "colab": {
          "base_uri": "https://localhost:8080/",
          "height": 421
        },
        "id": "41KA8fFKS361",
        "outputId": "52c92f86-d009-4ba6-d35c-b32204b17e15"
      },
      "execution_count": null,
      "outputs": [
        {
          "output_type": "stream",
          "name": "stdout",
          "text": [
            "avg of 0th set: 4.648737e-05 s\n",
            "avg of 1th set: 6.3975308e-05 s\n",
            "avg of 2th set: 0.000254388739 s\n",
            "avg of 3th set: 0.0005760013680000001 s\n",
            "avg of 4th set: 0.0029986431200000004 s\n",
            "avg of 5th set: 0.01047968783 s\n",
            "avg of 6th set: 0.046068378070000006 s\n"
          ]
        },
        {
          "output_type": "display_data",
          "data": {
            "text/plain": [
              "<Figure size 432x288 with 1 Axes>"
            ],
            "image/png": "[encoded data removed]"
          },
          "metadata": {
            "needs_background": "light"
          }
        }
      ]
    },
    {
      "cell_type": "code",
      "execution_count": null,
      "metadata": {
        "colab": {
          "base_uri": "https://localhost:8080/",
          "height": 316
        },
        "id": "DPuuuFMGrr5D",
        "outputId": "e795b629-d50b-45dc-afe1-06dc6c6d4355"
      },
      "outputs": [
        {
          "output_type": "execute_result",
          "data": {
            "text/plain": [
              "<matplotlib.legend.Legend at 0x7f88ef1c97d0>"
            ]
          },
          "metadata": {},
          "execution_count": 29
        },
        {
          "output_type": "display_data",
          "data": {
            "text/plain": [
              "<Figure size 432x288 with 1 Axes>"
            ],
            "image/png": "[encoded data removed]"
          },
          "metadata": {
            "needs_background": "light"
          }
        }
      ],
      "source": [
        "x = np.array([2,4,16,32,64,128,256])*np.array([4,16,32,64,128,256,512])\n",
        "plt.scatter(x, invSVD_avg_mxn, label = 'SVD')\n",
        "plt.scatter(x, invcholesky_avg_mxn, label = 'Cholesky')\n",
        "plt.scatter(x, invqr_avg_mxn, label = 'QR')\n",
        "plt.scatter(x, invLUP_avg_mxn, label = 'LUP')\n",
        "plt.scatter(x, inv_avg_mxn, label = 'Numpy')\n",
        "plt.xscale('log')\n",
        "plt.yscale('log')\n",
        "plt.xlabel('Number of Elements per Matrix')\n",
        "plt.ylabel('Time in Seconds to create a Matrix')\n",
        "plt.title(\"Average Time to Get Psudo-inverse\")\n",
        "plt.legend()"
      ]
    },
    {
      "cell_type": "markdown",
      "metadata": {
        "id": "Antjt1u-t2yL"
      },
      "source": [
        "##Irative Method\n",
        "\n",
        "###Gradient-based algorithm\n",
        "A gradient based algorithm for solving the unique minimum Forbenius norm solution of AXA = A\n",
        "\n",
        "$f(X) = \\frac{1}{2}||A-AXA||^2_F$\n",
        "\n",
        "$\\frac{\\partial f(X)}{\\partial X} = -A^*(A-AXA)A^*$\n",
        "\n",
        "$X_k=X_{k-1}-\\mu\\frac{\\partial}{\\partial X} = X_{k-1}+A^*(A-AX_{k-1}A)A^*$\n",
        "\n",
        "Where $X_i=A^*$ and $A^\\dagger = X_f$\n",
        "\n",
        "###Ben-Izrael\n",
        "\n",
        "An iterative algorithm for obtaining the generalized inverse $A^+$ whenever $X_0$ approximates $A^{-1}$.\n",
        "\n",
        "$X_{n+1}=X_n(2I-AX_n)$"
      ]
    },
    {
      "cell_type": "code",
      "execution_count": null,
      "metadata": {
        "id": "jSHPon9lt6np"
      },
      "outputs": [],
      "source": [
        "def iterStep(A,X):\n",
        "  return X@(2*np.eye(A.shape[0])-A@X)\n",
        "\n",
        "def BIinv(A, n, error = 1e-10):\n",
        "  X = 1/2000*A.T\n",
        "  for _ in range(n):\n",
        "    if (np.abs((X@A) - np.eye(np.min(A.shape)))).sum() < error:\n",
        "      return X\n",
        "    X = iterStep(A,X)\n",
        "  return X\n",
        "\n",
        "iter = 100"
      ]
    },
    {
      "cell_type": "code",
      "execution_count": null,
      "metadata": {
        "id": "Z6oMiAlW_DLp"
      },
      "outputs": [],
      "source": [
        "def get_psudeoInv_avg_iter(x, mxn_size, mxn_data, f, iter):\n",
        "  \"\"\"\n",
        "  function to calculate psudo-inverse and collact data on its average\n",
        "  x : x axis which tells the total number of elements for each dataset\n",
        "  mxnsize : array which contains the total number of matrices for each dataset\n",
        "  mxn_data : array which contains the dataset\n",
        "  f : function f(A)=A^-1, which calculates the psudeo-inverse a matrix at a time\n",
        "\n",
        "  Return:\n",
        "  inv_avg : avg time of each set\n",
        "  inv_data : the psudo-invereted matrices\n",
        "  \"\"\"\n",
        "  if len(x) != len(mxn_size):\n",
        "    print(\"x doesn't match mxn_size array\")\n",
        "    return \n",
        "  if len(mxn_data) != len(mxn_data):\n",
        "    print(\"dataset size doesn't match nsize\")\n",
        "    return \n",
        "  size = len(x)\n",
        "  inv_avg = [None]*size\n",
        "  inv_data = [None]*size\n",
        "  for i in range(size):\n",
        "    t0 = time.time_ns()\n",
        "    inv_data[i] = [f(i, iter) for i in mxn_data[i]]\n",
        "    t1 = time.time_ns()\n",
        "    avg = (t1-t0)/(mxn_size[i])*1e-9\n",
        "    inv_avg[i] = avg\n",
        "    print(f\"avg of {i}th set: {avg} s\")\n",
        "  plt.scatter(x, inv_avg)  # Plot of average time to invert matrix\n",
        "  plt.xscale('log')\n",
        "  plt.yscale('log')\n",
        "  plt.xlabel('Number of Elements per Matrix')\n",
        "  plt.ylabel('Time in Seconds to create a Matrix')\n",
        "  plt.title(\"Average Time to Get Psudo-inverse\")\n",
        "  return inv_avg, inv_data"
      ]
    },
    {
      "cell_type": "markdown",
      "metadata": {
        "id": "g1tb3k-Dyhvf"
      },
      "source": [
        "###nxn"
      ]
    },
    {
      "cell_type": "code",
      "execution_count": null,
      "metadata": {
        "colab": {
          "base_uri": "https://localhost:8080/",
          "height": 438
        },
        "id": "-hu6zUQp-jvN",
        "outputId": "a713e50d-0429-47c0-8feb-7fe05c5aab50"
      },
      "outputs": [
        {
          "output_type": "stream",
          "name": "stdout",
          "text": [
            "avg of 0th set: 0.000943422639 s\n"
          ]
        },
        {
          "output_type": "stream",
          "name": "stderr",
          "text": [
            "/usr/local/lib/python3.7/dist-packages/ipykernel_launcher.py:23: RuntimeWarning: overflow encountered in matmul\n",
            "/usr/local/lib/python3.7/dist-packages/numpy/core/_methods.py:48: RuntimeWarning: overflow encountered in reduce\n",
            "  return umr_sum(a, axis, dtype, out, keepdims, initial, where)\n",
            "/usr/local/lib/python3.7/dist-packages/ipykernel_launcher.py:28: RuntimeWarning: overflow encountered in matmul\n"
          ]
        },
        {
          "output_type": "stream",
          "name": "stdout",
          "text": [
            "avg of 1th set: 0.004098644751 s\n",
            "avg of 2th set: 0.011431638314 s\n",
            "avg of 3th set: 0.07209326316 s\n"
          ]
        },
        {
          "output_type": "display_data",
          "data": {
            "text/plain": [
              "<Figure size 432x288 with 1 Axes>"
            ],
            "image/png": "[encoded data removed]"
          },
          "metadata": {
            "needs_background": "light"
          }
        }
      ],
      "source": [
        "x = np.array([4,16,64,128])**2\n",
        "invbi_avg_nxn, invbi_data_nxn = get_psudeoInv_avg_iter(x, nxn_size[:4], nxn_data[:4], BIinv, iter)"
      ]
    },
    {
      "cell_type": "code",
      "execution_count": null,
      "metadata": {
        "colab": {
          "base_uri": "https://localhost:8080/",
          "height": 299
        },
        "id": "fI7xSBWJwgru",
        "outputId": "db2b7ae0-09bc-48a5-d849-f925450f5e04"
      },
      "outputs": [
        {
          "output_type": "display_data",
          "data": {
            "text/plain": [
              "<Figure size 432x288 with 1 Axes>"
            ],
            "image/png": "[encoded data removed]"
          },
          "metadata": {
            "needs_background": "light"
          }
        }
      ],
      "source": [
        "x = np.array([4,16,64,128,256,512])**2\n",
        "plt.scatter(x, invSVD_avg_nxn, label = 'SVD')\n",
        "plt.scatter(x, invcholesky_avg_nxn, label = 'Cholesky')\n",
        "plt.scatter(x, invqr_avg_nxn, label = 'QR')\n",
        "plt.scatter(x, invLUP_avg_nxn, label = 'LUP')\n",
        "plt.scatter(x, inv_avg_nxn, label = 'Numpy')\n",
        "x = np.array([4,16,64,128])**2\n",
        "x = np.array([4,16,64,128])**2\n",
        "plt.scatter(x, invbi_avg_nxn, label = 'Ben-Izrael')\n",
        "plt.xscale('log')\n",
        "plt.yscale('log')\n",
        "plt.xlabel('Number of Elements per Matrix')\n",
        "plt.ylabel('Time in Seconds to create a Matrix')\n",
        "plt.title(\"Average Time to Get Psudo-inverse\")\n",
        "plt.legend()\n",
        "plt.savefig(\"nxn_average_time.png\", dpi=300)"
      ]
    },
    {
      "cell_type": "markdown",
      "metadata": {
        "id": "UKB9OoUOykFi"
      },
      "source": [
        "###mxn"
      ]
    },
    {
      "cell_type": "code",
      "execution_count": null,
      "metadata": {
        "colab": {
          "base_uri": "https://localhost:8080/",
          "height": 403
        },
        "id": "gP-yoEKV_Tc5",
        "outputId": "1240ca4b-b624-443f-c73f-173ddbdd8c4d"
      },
      "outputs": [
        {
          "output_type": "stream",
          "name": "stdout",
          "text": [
            "avg of 0th set: 0.000371301698 s\n",
            "avg of 1th set: 0.000476021225 s\n"
          ]
        },
        {
          "output_type": "stream",
          "name": "stderr",
          "text": [
            "/usr/local/lib/python3.7/dist-packages/ipykernel_launcher.py:23: RuntimeWarning: overflow encountered in matmul\n"
          ]
        },
        {
          "output_type": "stream",
          "name": "stdout",
          "text": [
            "avg of 2th set: 0.004108460281000001 s\n",
            "avg of 3th set: 0.007248242730000001 s\n",
            "avg of 4th set: 0.04042272536 s\n"
          ]
        },
        {
          "output_type": "display_data",
          "data": {
            "text/plain": [
              "<Figure size 432x288 with 1 Axes>"
            ],
            "image/png": "[encoded data removed]"
          },
          "metadata": {
            "needs_background": "light"
          }
        }
      ],
      "source": [
        "x = np.array([2,4,16,32,64])*np.array([4,16,32,64,128])\n",
        "invbi_avg_mxn, invbi_data_mxn = get_psudeoInv_avg_iter(x, mxn_size[0:5], mxn_data[0:5], BIinv, iter)"
      ]
    },
    {
      "cell_type": "code",
      "execution_count": null,
      "metadata": {
        "colab": {
          "base_uri": "https://localhost:8080/",
          "height": 299
        },
        "id": "G0vZ3TJ9xJwc",
        "outputId": "c9bd3667-6c04-43e6-af3e-eb913b96e6d4"
      },
      "outputs": [
        {
          "output_type": "display_data",
          "data": {
            "text/plain": [
              "<Figure size 432x288 with 1 Axes>"
            ],
            "image/png": "[encoded data removed]"
          },
          "metadata": {
            "needs_background": "light"
          }
        }
      ],
      "source": [
        "x = np.array([2,4,16,32,64,128,256])*np.array([4,16,32,64,128,256,512])\n",
        "plt.scatter(x, invSVD_avg_mxn, label = 'SVD')\n",
        "plt.scatter(x, invcholesky_avg_mxn, label = 'Cholesky')\n",
        "plt.scatter(x, invqr_avg_mxn, label = 'QR')\n",
        "plt.scatter(x, invLUP_avg_mxn, label = 'LUP')\n",
        "plt.scatter(x, inv_avg_mxn, label = 'Numpy')\n",
        "x = np.array([2,4,16,32,64])*np.array([4,16,32,64,128])\n",
        "plt.scatter(x, invbi_avg_mxn, label = 'Ben-Izrael')\n",
        "plt.xscale('log')\n",
        "plt.yscale('log')\n",
        "plt.xlabel('Number of Elements per Matrix')\n",
        "plt.ylabel('Time in Seconds to create a Matrix')\n",
        "plt.title(\"Average Time to Get Psudo-inverse\")\n",
        "plt.legend()\n",
        "plt.savefig(\"mxn_average_time.png\", dpi=300)"
      ]
    },
    {
      "cell_type": "markdown",
      "metadata": {
        "id": "m0Q34oNKtHxD"
      },
      "source": [
        "#Accuracy of Inverses"
      ]
    },
    {
      "cell_type": "code",
      "execution_count": null,
      "metadata": {
        "id": "daXMxexjtKlV"
      },
      "outputs": [],
      "source": [
        "def InvError(A,B):\n",
        "  \"\"\"\n",
        "  A : Left matrix\n",
        "  B : Right matrix\n",
        "  \"\"\"\n",
        "  return np.abs(np.eye(np.min(A.shape[0:2])) - A@B).sum()\n",
        "\n",
        "def getInvError(setA, setB):\n",
        "  \"\"\"\n",
        "  setA : left matrix dataset\n",
        "  setB : right matrix dataset\n",
        "\n",
        "  Return:\n",
        "  inverse error\n",
        "  \"\"\"\n",
        "  inv_error = [None]*len(setB)\n",
        "  inv_sd = [None]*len(setB)\n",
        "\n",
        "  for i in range(len(setB)):  # loop over different datasets and inverse datasets\n",
        "    B = setB[i]\n",
        "    A = setA[i]\n",
        "    C = np.zeros(len(B))\n",
        "    for j in range(len(B)):  # loop over each item\n",
        "      C[j] = InvError(A[j],B[j])  # add up error of each matrix\n",
        "    inv_error[i] = C.mean()  # mean error of dataset\n",
        "    inv_sd[i] = C.std()  # mean error of dataset\n",
        "  return inv_error, inv_sd"
      ]
    },
    {
      "cell_type": "markdown",
      "metadata": {
        "id": "WFiy8g4xLYCt"
      },
      "source": [
        "Check that inverses work"
      ]
    },
    {
      "cell_type": "code",
      "execution_count": null,
      "metadata": {
        "colab": {
          "base_uri": "https://localhost:8080/",
          "height": 301
        },
        "id": "kQDV8cdOLbU8",
        "outputId": "ccd61138-13d1-4a91-acbc-1b44aec6fcf5"
      },
      "outputs": [
        {
          "output_type": "stream",
          "name": "stdout",
          "text": [
            "5.890772966054411e-12\n"
          ]
        },
        {
          "output_type": "execute_result",
          "data": {
            "text/plain": [
              "<matplotlib.image.AxesImage at 0x7f88eef2dbd0>"
            ]
          },
          "metadata": {},
          "execution_count": 42
        },
        {
          "output_type": "display_data",
          "data": {
            "text/plain": [
              "<Figure size 432x288 with 1 Axes>"
            ],
            "image/png": "[encoded data removed]"
          },
          "metadata": {
            "needs_background": "light"
          }
        }
      ],
      "source": [
        "print(InvError(invSVD_data_mxn[3][0],mxn_data[3][0]))\n",
        "plt.imshow(invSVD_data_mxn[3][0]@mxn_data[3][0])"
      ]
    },
    {
      "cell_type": "code",
      "execution_count": null,
      "metadata": {
        "colab": {
          "base_uri": "https://localhost:8080/",
          "height": 301
        },
        "id": "lRNDX3WeLa4e",
        "outputId": "a26e9dcb-a804-4bd2-dfc9-d1749f54054a"
      },
      "outputs": [
        {
          "output_type": "stream",
          "name": "stdout",
          "text": [
            "2.1248378295461964e-12\n"
          ]
        },
        {
          "output_type": "execute_result",
          "data": {
            "text/plain": [
              "<matplotlib.image.AxesImage at 0x7f88ef1dfcd0>"
            ]
          },
          "metadata": {},
          "execution_count": 43
        },
        {
          "output_type": "display_data",
          "data": {
            "text/plain": [
              "<Figure size 432x288 with 1 Axes>"
            ],
            "image/png": "[encoded data removed]"
          },
          "metadata": {
            "needs_background": "light"
          }
        }
      ],
      "source": [
        "print(InvError(invcholesky_data_mxn[3][0],mxn_data[3][0]))\n",
        "plt.imshow(invcholesky_data_mxn[3][0]@mxn_data[3][0])"
      ]
    },
    {
      "cell_type": "code",
      "execution_count": null,
      "metadata": {
        "colab": {
          "base_uri": "https://localhost:8080/",
          "height": 301
        },
        "id": "-uCPRbIch3wI",
        "outputId": "8b74171c-b5f1-458e-fe8d-e5a52959fed9"
      },
      "outputs": [
        {
          "output_type": "stream",
          "name": "stdout",
          "text": [
            "2.1377346335406312e-12\n"
          ]
        },
        {
          "output_type": "execute_result",
          "data": {
            "text/plain": [
              "<matplotlib.image.AxesImage at 0x7f88f2daba90>"
            ]
          },
          "metadata": {},
          "execution_count": 44
        },
        {
          "output_type": "display_data",
          "data": {
            "text/plain": [
              "<Figure size 432x288 with 1 Axes>"
            ],
            "image/png": "[encoded data removed]"
          },
          "metadata": {
            "needs_background": "light"
          }
        }
      ],
      "source": [
        "print(InvError(invLUP_data_mxn[3][0],mxn_data[3][0]))\n",
        "plt.imshow(invLUP_data_mxn[3][0]@mxn_data[3][0])"
      ]
    },
    {
      "cell_type": "code",
      "execution_count": null,
      "metadata": {
        "colab": {
          "base_uri": "https://localhost:8080/",
          "height": 301
        },
        "id": "eFFz5LYXLqAx",
        "outputId": "d07f321e-e0c5-4424-f6db-3c6a2d46108f"
      },
      "outputs": [
        {
          "output_type": "stream",
          "name": "stdout",
          "text": [
            "4.159313218322238e-10\n"
          ]
        },
        {
          "output_type": "execute_result",
          "data": {
            "text/plain": [
              "<matplotlib.image.AxesImage at 0x7f88f24ec210>"
            ]
          },
          "metadata": {},
          "execution_count": 45
        },
        {
          "output_type": "display_data",
          "data": {
            "text/plain": [
              "<Figure size 432x288 with 1 Axes>"
            ],
            "image/png": "[encoded data removed]"
          },
          "metadata": {
            "needs_background": "light"
          }
        }
      ],
      "source": [
        "print(InvError(invqr_data_mxn[3][0],mxn_data[3][0]))\n",
        "plt.imshow(invqr_data_mxn[3][0]@mxn_data[3][0])"
      ]
    },
    {
      "cell_type": "code",
      "execution_count": null,
      "metadata": {
        "colab": {
          "base_uri": "https://localhost:8080/",
          "height": 303
        },
        "id": "cSzHWM-OLrPS",
        "outputId": "c23cedbc-3fb7-4aba-969f-2e0ec0f4bc73"
      },
      "outputs": [
        {
          "output_type": "stream",
          "name": "stdout",
          "text": [
            "6428281.022425011\n"
          ]
        },
        {
          "output_type": "execute_result",
          "data": {
            "text/plain": [
              "<matplotlib.colorbar.Colorbar at 0x7f88eedcef10>"
            ]
          },
          "metadata": {},
          "execution_count": 46
        },
        {
          "output_type": "display_data",
          "data": {
            "text/plain": [
              "<Figure size 432x288 with 2 Axes>"
            ],
            "image/png": "[encoded data removed]"
          },
          "metadata": {
            "needs_background": "light"
          }
        }
      ],
      "source": [
        "print(InvError(invgd_data_nxn[2][0],nxn_data[2][0]))\n",
        "plt.imshow(invgd_data_nxn[2][0]@nxn_data[2][0])\n",
        "plt.colorbar()"
      ]
    },
    {
      "cell_type": "code",
      "execution_count": null,
      "metadata": {
        "colab": {
          "base_uri": "https://localhost:8080/",
          "height": 300
        },
        "id": "W47hQbgiMDnn",
        "outputId": "5108f2f7-8961-45fa-aa83-7731921d529b"
      },
      "outputs": [
        {
          "output_type": "stream",
          "name": "stdout",
          "text": [
            "209745.45170641041\n"
          ]
        },
        {
          "output_type": "execute_result",
          "data": {
            "text/plain": [
              "<matplotlib.colorbar.Colorbar at 0x7f88ef1ea4d0>"
            ]
          },
          "metadata": {},
          "execution_count": 47
        },
        {
          "output_type": "display_data",
          "data": {
            "text/plain": [
              "<Figure size 432x288 with 2 Axes>"
            ],
            "image/png": "[encoded data removed]"
          },
          "metadata": {
            "needs_background": "light"
          }
        }
      ],
      "source": [
        "print(InvError(invgd_data_mxn[2][0],mxn_data[2][0]))\n",
        "plt.imshow(invgd_data_mxn[2][0]@mxn_data[2][0])\n",
        "plt.colorbar()"
      ]
    },
    {
      "cell_type": "code",
      "execution_count": null,
      "metadata": {
        "colab": {
          "base_uri": "https://localhost:8080/",
          "height": 440
        },
        "id": "1SeCI10tLrHC",
        "outputId": "8a15111f-0132-492e-f191-679656d0bfbf"
      },
      "outputs": [
        {
          "output_type": "stream",
          "name": "stdout",
          "text": [
            "inf\n"
          ]
        },
        {
          "output_type": "execute_result",
          "data": {
            "text/plain": [
              "<matplotlib.image.AxesImage at 0x7f88ef682b10>"
            ]
          },
          "metadata": {},
          "execution_count": 48
        },
        {
          "output_type": "stream",
          "name": "stderr",
          "text": [
            "/usr/local/lib/python3.7/dist-packages/matplotlib/image.py:452: UserWarning: Warning: converting a masked element to nan.\n",
            "  dv = np.float64(self.norm.vmax) - np.float64(self.norm.vmin)\n",
            "/usr/local/lib/python3.7/dist-packages/matplotlib/image.py:459: UserWarning: Warning: converting a masked element to nan.\n",
            "  a_min = np.float64(newmin)\n",
            "/usr/local/lib/python3.7/dist-packages/matplotlib/image.py:464: UserWarning: Warning: converting a masked element to nan.\n",
            "  a_max = np.float64(newmax)\n",
            "<string>:6: UserWarning: Warning: converting a masked element to nan.\n",
            "/usr/local/lib/python3.7/dist-packages/matplotlib/colors.py:993: UserWarning: Warning: converting a masked element to nan.\n",
            "  data = np.asarray(value)\n"
          ]
        },
        {
          "output_type": "display_data",
          "data": {
            "text/plain": [
              "<Figure size 432x288 with 1 Axes>"
            ],
            "image/png": "[encoded data removed]"
          },
          "metadata": {
            "needs_background": "light"
          }
        }
      ],
      "source": [
        "print(InvError(invbi_data_mxn[3][0],mxn_data[3][0]))\n",
        "plt.imshow(invbi_data_mxn[3][0]@mxn_data[3][0])"
      ]
    },
    {
      "cell_type": "markdown",
      "metadata": {
        "id": "EA51Ra-f1F37"
      },
      "source": [
        "##nxn"
      ]
    },
    {
      "cell_type": "code",
      "execution_count": null,
      "metadata": {
        "id": "bsZuoS9C0cvd"
      },
      "outputs": [],
      "source": [
        "invSVD_data_nxn  # inverses of SVD\n",
        "nxn_data  # dataset\n",
        "\n",
        "invSVD_error = [None]*len(invSVD_data_nxn)\n",
        "\n",
        "for i in range(len(invSVD_data_nxn)):  # loop over different datasets and inverse datasets\n",
        "  B = invSVD_data_nxn[i]\n",
        "  A = nxn_data[i]\n",
        "  C = np.zeros(len(B))\n",
        "  for j in range(len(B)):  # loop over each item\n",
        "    C[j] = InvError(A[j],B[j])  # add up error of each matrix\n",
        "  invSVD_error[i] = (C.sum())/(len(B)*A[0].shape[0]*A[0].shape[1])  # sum up error of dataset. Divide by total length to get average. Also divide by total number of elements"
      ]
    },
    {
      "cell_type": "code",
      "execution_count": null,
      "metadata": {
        "id": "TNbypMKi8ia3",
        "colab": {
          "base_uri": "https://localhost:8080/"
        },
        "outputId": "22106cfe-c81d-4ce2-952a-27cce2b82af4"
      },
      "outputs": [
        {
          "output_type": "stream",
          "name": "stderr",
          "text": [
            "/usr/local/lib/python3.7/dist-packages/numpy/core/_methods.py:230: RuntimeWarning: invalid value encountered in subtract\n",
            "  x = asanyarray(arr - arrmean)\n"
          ]
        }
      ],
      "source": [
        "inverror_svd, inv_sd_svd = getInvError(invSVD_data_nxn, nxn_data)\n",
        "inverror_cholesky, inv_sd_cholsky = getInvError(invcholesky_data_nxn, nxn_data)\n",
        "inverror_qr, inv_sd_qr = getInvError(invqr_data_nxn, nxn_data)\n",
        "inverror_LUP, inv_sd_LUP = getInvError(invLUP_data_nxn, nxn_data)\n",
        "inverror, inv_sd = getInvError(inv_data_nxn, nxn_data)\n",
        "inverror_bi, inv_sd_bi = getInvError(invbi_data_nxn, nxn_data[0:4])"
      ]
    },
    {
      "cell_type": "code",
      "execution_count": null,
      "metadata": {
        "colab": {
          "base_uri": "https://localhost:8080/",
          "height": 299
        },
        "id": "FVcBMeGs9BNd",
        "outputId": "11b8dea6-16b0-4832-aeb2-038a0c3849f6"
      },
      "outputs": [
        {
          "output_type": "display_data",
          "data": {
            "text/plain": [
              "<Figure size 432x288 with 1 Axes>"
            ],
            "image/png": "[encoded data removed]"
          },
          "metadata": {
            "needs_background": "light"
          }
        }
      ],
      "source": [
        "x = np.array([4,16,64,128,256,512])**2\n",
        "plt.scatter(x, inverror_svd, label = 'SVD')\n",
        "plt.scatter(x, inverror_cholesky, label = 'Cholesky')\n",
        "plt.scatter(x, inverror_qr, label = 'QR')\n",
        "plt.scatter(x, inverror_LUP, label = 'LUP')\n",
        "plt.scatter(x, inverror, label = 'Numpy')\n",
        "x = np.array([4,16,64,128])**2\n",
        "x = np.array([4,16,64,128])**2\n",
        "plt.scatter(x, inverror_bi, label = 'Ben-Izrael')\n",
        "plt.xscale('log')\n",
        "plt.yscale('log')\n",
        "plt.xlabel('Number of Elements per Matrix')\n",
        "plt.ylabel('Error')\n",
        "plt.title(\"Average Error of Inverse on Square Matrices\")\n",
        "plt.legend()\n",
        "plt.savefig(\"nxn_average_error.png\", dpi=300)"
      ]
    },
    {
      "cell_type": "markdown",
      "metadata": {
        "id": "zgYk5DFL1I--"
      },
      "source": [
        "##mxn"
      ]
    },
    {
      "cell_type": "code",
      "execution_count": null,
      "metadata": {
        "id": "gHsqXzBFBjMW",
        "colab": {
          "base_uri": "https://localhost:8080/"
        },
        "outputId": "27b475e9-0e36-4383-dbea-24d4d2ff8a97"
      },
      "outputs": [
        {
          "output_type": "stream",
          "name": "stderr",
          "text": [
            "/usr/local/lib/python3.7/dist-packages/numpy/core/_methods.py:230: RuntimeWarning: invalid value encountered in subtract\n",
            "  x = asanyarray(arr - arrmean)\n"
          ]
        }
      ],
      "source": [
        "mxn_data = [set4x2, set16x4, set32x16, set64x32, set128x64, set256x128, set512x256]\n",
        "inverror_svd_, inv_sd_svd_ = getInvError(invSVD_data_mxn, mxn_data)\n",
        "inverror_cholesky_, inv_sd_cholsky_ = getInvError(invcholesky_data_mxn, mxn_data)\n",
        "inverror_qr_, inv_sd_qr_ = getInvError(invqr_data_mxn, mxn_data)\n",
        "inverror_LUP_, inv_sd_LUP_ = getInvError(invLUP_data_mxn, mxn_data)\n",
        "inverror_, inv_sd_ = getInvError(inv_data_mxn, mxn_data)\n",
        "inverror_bi_, inv_sd_bi_ = getInvError(invbi_data_mxn, mxn_data[0:5])"
      ]
    },
    {
      "cell_type": "code",
      "execution_count": null,
      "metadata": {
        "colab": {
          "base_uri": "https://localhost:8080/",
          "height": 299
        },
        "id": "aykT32LrWedZ",
        "outputId": "2300deb2-57fb-4e9f-cd1d-d722b53488f6"
      },
      "outputs": [
        {
          "output_type": "display_data",
          "data": {
            "text/plain": [
              "<Figure size 432x288 with 1 Axes>"
            ],
            "image/png": "[encoded data removed]"
          },
          "metadata": {
            "needs_background": "light"
          }
        }
      ],
      "source": [
        "x = np.array([2,4,16,32,64,128,256])*np.array([4,16,32,64,128,256,512])\n",
        "plt.scatter(x, inverror_svd_, label = 'SVD')\n",
        "plt.scatter(x, inverror_cholesky_, label = 'Cholesky')\n",
        "plt.scatter(x, inverror_qr_, label = 'QR')\n",
        "plt.scatter(x, inverror_LUP_, label = 'LUP')\n",
        "plt.scatter(x, inverror_, label = 'Numpy')\n",
        "x = np.array([2,4,16,32,64])*np.array([4,16,32,64,128])\n",
        "plt.scatter(x, inverror_bi_, label = 'Ben-Izrael')\n",
        "plt.xscale('log')\n",
        "plt.yscale('log')\n",
        "plt.xlabel('Number of Elements per Matrix')\n",
        "plt.ylabel('Error')\n",
        "plt.title(\"Average Error of Psudo-inverse for Non-square Matrix\")\n",
        "plt.legend()\n",
        "plt.savefig(\"mxn_average_error.png\", dpi=300)"
      ]
    },
    {
      "cell_type": "markdown",
      "metadata": {
        "id": "M-YqLR-X5CTp"
      },
      "source": [
        "#Danny's Problem"
      ]
    },
    {
      "cell_type": "code",
      "execution_count": null,
      "metadata": {
        "id": "QfhBrHEDznY-",
        "colab": {
          "base_uri": "https://localhost:8080/"
        },
        "outputId": "e7a6a6f7-5c10-4f89-83ea-31521e9ec351"
      },
      "outputs": [
        {
          "output_type": "stream",
          "name": "stderr",
          "text": [
            "/usr/local/lib/python3.7/dist-packages/qiskit/providers/aer/noise/device/models.py:266: UserWarning: Device model returned an invalid T_2 relaxation time greater than the theoretical maximum value 2 * T_1 (258730.94416223024 > 2 * 115148.38353876387). Truncating to maximum value.\n",
            "  \" Truncating to maximum value.\", UserWarning)\n",
            "/usr/local/lib/python3.7/dist-packages/qiskit/providers/aer/noise/device/models.py:266: UserWarning: Device model returned an invalid T_2 relaxation time greater than the theoretical maximum value 2 * T_1 (258730.94416223024 > 2 * 115148.38353876387). Truncating to maximum value.\n",
            "  \" Truncating to maximum value.\", UserWarning)\n",
            "/usr/local/lib/python3.7/dist-packages/qiskit/providers/aer/noise/device/models.py:266: UserWarning: Device model returned an invalid T_2 relaxation time greater than the theoretical maximum value 2 * T_1 (258730.94416223024 > 2 * 115148.38353876387). Truncating to maximum value.\n",
            "  \" Truncating to maximum value.\", UserWarning)\n",
            "/usr/local/lib/python3.7/dist-packages/qiskit/providers/aer/noise/device/models.py:266: UserWarning: Device model returned an invalid T_2 relaxation time greater than the theoretical maximum value 2 * T_1 (258730.94416223024 > 2 * 115148.38353876387). Truncating to maximum value.\n",
            "  \" Truncating to maximum value.\", UserWarning)\n",
            "/usr/local/lib/python3.7/dist-packages/qiskit/providers/aer/noise/device/models.py:266: UserWarning: Device model returned an invalid T_2 relaxation time greater than the theoretical maximum value 2 * T_1 (258730.94416223024 > 2 * 115148.38353876387). Truncating to maximum value.\n",
            "  \" Truncating to maximum value.\", UserWarning)\n",
            "/usr/local/lib/python3.7/dist-packages/qiskit/providers/aer/noise/device/models.py:266: UserWarning: Device model returned an invalid T_2 relaxation time greater than the theoretical maximum value 2 * T_1 (258730.94416223024 > 2 * 115148.38353876387). Truncating to maximum value.\n",
            "  \" Truncating to maximum value.\", UserWarning)\n",
            "/usr/local/lib/python3.7/dist-packages/qiskit/providers/aer/noise/device/models.py:266: UserWarning: Device model returned an invalid T_2 relaxation time greater than the theoretical maximum value 2 * T_1 (258730.94416223024 > 2 * 115148.38353876387). Truncating to maximum value.\n",
            "  \" Truncating to maximum value.\", UserWarning)\n",
            "/usr/local/lib/python3.7/dist-packages/qiskit/providers/aer/noise/device/models.py:266: UserWarning: Device model returned an invalid T_2 relaxation time greater than the theoretical maximum value 2 * T_1 (258730.94416223024 > 2 * 115148.38353876387). Truncating to maximum value.\n",
            "  \" Truncating to maximum value.\", UserWarning)\n",
            "/usr/local/lib/python3.7/dist-packages/qiskit/providers/aer/noise/device/models.py:266: UserWarning: Device model returned an invalid T_2 relaxation time greater than the theoretical maximum value 2 * T_1 (0.0002587309441622302 > 2 * 0.00011514838353876386). Truncating to maximum value.\n",
            "  \" Truncating to maximum value.\", UserWarning)\n"
          ]
        }
      ],
      "source": [
        "IBMQ.save_account('4155b71f22eb3c7c385dcceb3b445f95a6f7b517d67336eac6b6bdce842c869e3fca7a5bca1d97a2331e689d3af55083ebc25b8451a028e28901936b3c5ea527',overwrite=True)\n",
        "IBMQ.load_account()\n",
        "provider = IBMQ.get_provider()\n",
        "backend=provider.get_backend('ibmq_bogota')\n",
        "noise_model = NoiseModel.from_backend(backend)\n",
        "sim = Aer.get_backend('qasm_simulator')"
      ]
    },
    {
      "cell_type": "code",
      "execution_count": null,
      "metadata": {
        "id": "qJagqups5Dxi"
      },
      "outputs": [],
      "source": [
        "def calmatrix(n):\n",
        "  calM = []\n",
        "  for i in range(n):\n",
        "    qr = qiskit.QuantumRegister(5)\n",
        "    qubit_list = [2,3,4]\n",
        "    meas_calibs, state_labels = complete_meas_cal(qubit_list=qubit_list, qr=qr, circlabel='mcal')\n",
        "\n",
        "    job = qiskit.execute(meas_calibs, backend=sim, shots=10000, noise_model=noise_model)\n",
        "    cal_results = job.result()\n",
        "\n",
        "    meas_fitter = CompleteMeasFitter(cal_results, state_labels, qubit_list=qubit_list, circlabel='mcal')\n",
        "    calM.append(meas_fitter.cal_matrix)\n",
        "  return calM"
      ]
    },
    {
      "cell_type": "markdown",
      "metadata": {
        "id": "tAiqmO2e6-qF"
      },
      "source": [
        "$|GHZ\\rangle = \\frac{|000\\rangle+|111\\rangle}{\\sqrt{2}}$"
      ]
    },
    {
      "cell_type": "code",
      "execution_count": null,
      "metadata": {
        "colab": {
          "base_uri": "https://localhost:8080/",
          "height": 217
        },
        "id": "wU4bMLAQ69mS",
        "outputId": "05bc21bc-c02a-4aad-8b5e-4250a4fb0e6f"
      },
      "outputs": [
        {
          "output_type": "execute_result",
          "data": {
            "text/plain": [
              "                              \n",
              " q_0: ────────────────────────\n",
              "                              \n",
              " q_1: ────────────────────────\n",
              "      ┌───┐          ┌─┐      \n",
              " q_2: ┤ H ├──■───────┤M├──────\n",
              "      └───┘┌─┴─┐     └╥┘┌─┐   \n",
              " q_3: ─────┤ X ├──■───╫─┤M├───\n",
              "           └───┘┌─┴─┐ ║ └╥┘┌─┐\n",
              " q_4: ──────────┤ X ├─╫──╫─┤M├\n",
              "                └───┘ ║  ║ └╥┘\n",
              "c0: 3/════════════════╩══╩══╩═\n",
              "                      0  1  2 "
            ],
            "text/html": [
              "<pre style=\"word-wrap: normal;white-space: pre;background: #fff0;line-height: 1.1;font-family: &quot;Courier New&quot;,Courier,monospace\">                              \n",
              " q_0: ────────────────────────\n",
              "                              \n",
              " q_1: ────────────────────────\n",
              "      ┌───┐          ┌─┐      \n",
              " q_2: ┤ H ├──■───────┤M├──────\n",
              "      └───┘┌─┴─┐     └╥┘┌─┐   \n",
              " q_3: ─────┤ X ├──■───╫─┤M├───\n",
              "           └───┘┌─┴─┐ ║ └╥┘┌─┐\n",
              " q_4: ──────────┤ X ├─╫──╫─┤M├\n",
              "                └───┘ ║  ║ └╥┘\n",
              "c0: 3/════════════════╩══╩══╩═\n",
              "                      0  1  2 </pre>"
            ]
          },
          "metadata": {},
          "execution_count": 56
        }
      ],
      "source": [
        "# Make a 3Q GHZ state\n",
        "qr = qiskit.QuantumRegister(5,'q')\n",
        "cr = ClassicalRegister(3)\n",
        "ghz = QuantumCircuit(qr, cr)\n",
        "ghz.h(qr[2])\n",
        "ghz.cx(qr[2], qr[3])\n",
        "ghz.cx(qr[3], qr[4])\n",
        "ghz.measure(qr[2],cr[0])\n",
        "ghz.measure(qr[3],cr[1])\n",
        "ghz.measure(qr[4],cr[2])\n",
        "circuit_drawer(ghz)"
      ]
    },
    {
      "cell_type": "code",
      "execution_count": null,
      "metadata": {
        "id": "Y2KwtEzu6Lbn"
      },
      "outputs": [],
      "source": [
        "job_noise = qiskit.execute([ghz], backend=sim, shots=10000, noise_model=noise_model)\n",
        "job_sim = qiskit.execute([ghz], backend=sim, shots=10000)\n",
        "results_n = job_noise.result()\n",
        "results_s = job_sim.result()\n",
        "# Results without mitigation\n",
        "raw_counts_n = results_n.get_counts()\n",
        "raw_counts_s = results_s.get_counts()\n",
        "\n",
        "count_noise = (1/10000)*np.array([raw_counts_n['000'],\n",
        "                   raw_counts_n['001'],\n",
        "                   raw_counts_n['010'],\n",
        "                   raw_counts_n['011'],\n",
        "                   raw_counts_n['100'],\n",
        "                   raw_counts_n['101'],\n",
        "                   raw_counts_n['110'],\n",
        "                   raw_counts_n['111']])\n",
        "\n",
        "count_s = (1/10000)*np.array([[raw_counts_s['000'],\n",
        "                     0,\n",
        "                     0,\n",
        "                     0,\n",
        "                     0,\n",
        "                     0,\n",
        "                     0,\n",
        "                     raw_counts_s['111']]])"
      ]
    },
    {
      "cell_type": "code",
      "source": [
        "CALM = calmatrix(100)"
      ],
      "metadata": {
        "id": "MgwfivwAzg-s"
      },
      "execution_count": null,
      "outputs": []
    },
    {
      "cell_type": "code",
      "source": [
        "CALM =np.array(CALM).reshape(-1,8,8)"
      ],
      "metadata": {
        "id": "kOZmpN7f1qiL"
      },
      "execution_count": null,
      "outputs": []
    },
    {
      "cell_type": "code",
      "source": [
        "CALM2 = [CALM,CALM]"
      ],
      "metadata": {
        "id": "BksLk_Q02aeQ"
      },
      "execution_count": null,
      "outputs": []
    },
    {
      "cell_type": "code",
      "source": [
        "x = np.array([8,8])**2\n",
        "number = [100,100]\n",
        "iter =100\n",
        "print('SVD')\n",
        "invSVD_avg, svdinv = get_psudeoInv_avg(x, number, CALM2, getInvSVD)\n",
        "print('chol')\n",
        "invChol_avg, cholinv = get_psudeoInv_avg(x, number, CALM2, cholesky)\n",
        "print('qr')\n",
        "invqr_avg, qrinv = get_psudeoInv_avg(x, number, CALM2, getQRinv)\n",
        "print('lup')\n",
        "invlup_avg, lupinv = get_psudeoInv_avg(x, number, CALM2, getLUPinv)\n",
        "print('bi')\n",
        "invbi_avg_nxn, biinv = get_psudeoInv_avg_iter(x, number, CALM2, BIinv, iter)"
      ],
      "metadata": {
        "colab": {
          "base_uri": "https://localhost:8080/",
          "height": 559
        },
        "id": "qG4v7qf4zj5G",
        "outputId": "4e6b338c-5a0e-46c2-dba6-716eb8c5ae68"
      },
      "execution_count": null,
      "outputs": [
        {
          "output_type": "stream",
          "name": "stdout",
          "text": [
            "SVD\n",
            "avg of 0th set: 0.00023325156 s\n",
            "avg of 1th set: 0.00012343425000000002 s\n",
            "chol\n",
            "avg of 0th set: 0.00042136571 s\n",
            "avg of 1th set: 0.00037978213 s\n",
            "qr\n",
            "avg of 0th set: 0.00053627812 s\n",
            "avg of 1th set: 0.00071655388 s\n",
            "lup\n",
            "avg of 0th set: 0.00065851396 s\n",
            "avg of 1th set: 0.00072008382 s\n",
            "bi\n",
            "avg of 0th set: 0.00092308147 s\n",
            "avg of 1th set: 0.0006160637700000001 s\n"
          ]
        },
        {
          "output_type": "display_data",
          "data": {
            "text/plain": [
              "<Figure size 432x288 with 1 Axes>"
            ],
            "image/png": "[encoded data removed]"
          },
          "metadata": {
            "needs_background": "light"
          }
        }
      ]
    },
    {
      "cell_type": "code",
      "source": [
        "svdinv1 = svdinv[0]@count_noise.T\n",
        "cholinv1 = cholinv[0]@count_noise.T\n",
        "qrinv1 = qrinv[0]@count_noise.T\n",
        "lupinv1 = lupinv[0]@count_noise.T\n",
        "biinv1 = biinv[0]@count_noise.T"
      ],
      "metadata": {
        "id": "Qpgf8eYt5duS"
      },
      "execution_count": null,
      "outputs": []
    },
    {
      "cell_type": "code",
      "source": [
        "\n",
        "svdinv = [getInvSVD(i)@count_noise.T for i in CALM]\n",
        "cholinv = [cholesky(i)@count_noise.T for i in CALM]\n",
        "qrinv = [getQRinv(i)@count_noise.T for i in CALM]\n",
        "lupinv = [getLUPinv(i)@count_noise.T for i in CALM]\n",
        "gdinv = [Piter(i,100)@count_noise.T for i in CALM]\n",
        "biinv = [BIinv(i,100)@count_noise.T for i in CALM]"
      ],
      "metadata": {
        "id": "OgiM4cPo5Z8h"
      },
      "execution_count": null,
      "outputs": []
    },
    {
      "cell_type": "code",
      "execution_count": null,
      "metadata": {
        "id": "McG6Nr857r8K"
      },
      "outputs": [],
      "source": [
        "CALM = calmatrix(100)\n",
        "Truinv = [LA.inv(i)@count_noise.T for i in CALM]\n",
        "svdinv = [getInvSVD(i)@count_noise.T for i in CALM]\n",
        "cholinv = [cholesky(i)@count_noise.T for i in CALM]\n",
        "qrinv = [getQRinv(i)@count_noise.T for i in CALM]\n",
        "lupinv = [getLUPinv(i)@count_noise.T for i in CALM]\n",
        "gdinv = [Piter(i,100)@count_noise.T for i in CALM]\n",
        "biinv = [BIinv(i,100)@count_noise.T for i in CALM]"
      ]
    },
    {
      "cell_type": "code",
      "source": [
        "Truinv = [LA.inv(i)@count_noise.T for i in CALM]"
      ],
      "metadata": {
        "id": "aQBmIn7D-6lD"
      },
      "execution_count": null,
      "outputs": []
    },
    {
      "cell_type": "code",
      "execution_count": null,
      "metadata": {
        "id": "J2ny-LhLFEk5"
      },
      "outputs": [],
      "source": [
        "Tru_mean = np.mean(Truinv,axis=0)\n",
        "Tru_std = np.std(Truinv,axis=0)\n",
        "svd_mean = np.mean(svdinv1,axis=0)\n",
        "svd_std = np.std(svdinv1,axis=0)\n",
        "chol_mean = np.mean(cholinv1,axis=0)\n",
        "chol_std = np.std(cholinv1,axis=0)\n",
        "qr_mean = np.mean(qrinv1,axis=0)\n",
        "qr_std = np.std(qrinv1,axis=0)\n",
        "lup_mean = np.mean(lupinv1,axis=0)\n",
        "lup_std = np.std(lupinv1,axis=0)\n",
        "bi_mean = np.mean(biinv1,axis=0)\n",
        "bi_std = np.std(biinv1,axis=0)"
      ]
    },
    {
      "cell_type": "code",
      "source": [
        "print(np.shape(svdinv1))"
      ],
      "metadata": {
        "colab": {
          "base_uri": "https://localhost:8080/"
        },
        "id": "R00JoXf_6Aor",
        "outputId": "0572f686-1d1f-46f9-af2e-a806659abc5e"
      },
      "execution_count": null,
      "outputs": [
        {
          "output_type": "stream",
          "name": "stdout",
          "text": [
            "(100, 8)\n"
          ]
        }
      ]
    },
    {
      "cell_type": "code",
      "source": [
        "svd_mean"
      ],
      "metadata": {
        "colab": {
          "base_uri": "https://localhost:8080/"
        },
        "id": "cZa7gsRz5B6J",
        "outputId": "6ea572e0-a6a1-47e9-80b9-730c755b17bb"
      },
      "execution_count": null,
      "outputs": [
        {
          "output_type": "execute_result",
          "data": {
            "text/plain": [
              "array([ 4.96747446e-01,  2.79398010e-03,  1.07271005e-04,  5.42754371e-03,\n",
              "        1.11883484e-03, -1.34275115e-03,  1.02865095e-02,  4.84861166e-01])"
            ]
          },
          "metadata": {},
          "execution_count": 68
        }
      ]
    },
    {
      "cell_type": "code",
      "execution_count": null,
      "metadata": {
        "id": "ACZF4OJD67Bh",
        "colab": {
          "base_uri": "https://localhost:8080/",
          "height": 307
        },
        "outputId": "bf170896-345e-4798-d930-92bfc5928900"
      },
      "outputs": [
        {
          "output_type": "display_data",
          "data": {
            "text/plain": [
              "<Figure size 432x288 with 1 Axes>"
            ],
            "image/png": "[encoded data removed]"
          },
          "metadata": {
            "needs_background": "light"
          }
        }
      ],
      "source": [
        "x = ['000','001','010','011','100','101','110','111']\n",
        "plt.scatter(x,count_s.T,label='true')\n",
        "plt.errorbar(x,Tru_mean,yerr=Tru_std,fmt=\"o\",label='Numpu Inv')\n",
        "plt.errorbar(x,svd_mean,yerr=svd_std,fmt=\"o\",label='SVD')\n",
        "plt.errorbar(x,chol_mean,yerr=chol_std,fmt=\"o\",label='Cholesky')\n",
        "plt.errorbar(x,qr_mean,yerr=qr_std,fmt=\"o\",label='QR')\n",
        "plt.errorbar(x,lup_mean,yerr=lup_std,fmt=\"o\",label='LUP')\n",
        "plt.errorbar(x,bi_mean,yerr=bi_std,fmt=\"o\",label='Ben-Izrael')\n",
        "plt.ylabel('probability',fontsize=18)\n",
        "plt.xlabel('states',fontsize=18)\n",
        "plt.title('True vs inv vs Psudo-inv',fontsize=18)\n",
        "plt.legend()\n",
        "plt.savefig(\"Danny_truevspsudo.png\", dpi=300)"
      ]
    },
    {
      "cell_type": "code",
      "execution_count": null,
      "metadata": {
        "id": "sd4mksEi8pFF",
        "colab": {
          "base_uri": "https://localhost:8080/"
        },
        "outputId": "47647858-12c7-4695-ea5f-68654e108f6a"
      },
      "outputs": [
        {
          "output_type": "stream",
          "name": "stdout",
          "text": [
            "Error svd [[0.00634745 0.00279398 0.00010727 0.00542754 0.00111883 0.00134275\n",
            "  0.01028651 0.02473883]]\n",
            "Error chol [[0.00634745 0.00279398 0.00010727 0.00542754 0.00111883 0.00134275\n",
            "  0.01028651 0.02473883]]\n",
            "Error qr [[0.00634745 0.00279398 0.00010727 0.00542754 0.00111883 0.00134275\n",
            "  0.01028651 0.02473883]]\n",
            "Error lup [[0.00634745 0.00279398 0.00010727 0.00542754 0.00111883 0.00134275\n",
            "  0.01028651 0.02473883]]\n",
            "Error Ben-Izrael [[0.00634745 0.00279398 0.00010727 0.00542754 0.00111883 0.00134275\n",
            "  0.01028651 0.02473883]]\n"
          ]
        }
      ],
      "source": [
        "print('Error svd',abs(svd_mean-count_s))\n",
        "print('Error chol',abs(chol_mean-count_s))\n",
        "print('Error qr',abs(qr_mean-count_s))\n",
        "print('Error lup',abs(lup_mean-count_s))\n",
        "print('Error Ben-Izrael',abs(bi_mean-count_s))"
      ]
    },
    {
      "cell_type": "code",
      "execution_count": null,
      "metadata": {
        "id": "ClShnGwRF_2G",
        "colab": {
          "base_uri": "https://localhost:8080/",
          "height": 307
        },
        "outputId": "701ce89f-35f9-4244-ada8-ef734d30948a"
      },
      "outputs": [
        {
          "output_type": "display_data",
          "data": {
            "text/plain": [
              "<Figure size 432x288 with 1 Axes>"
            ],
            "image/png": "[encoded data removed]"
          },
          "metadata": {
            "needs_background": "light"
          }
        }
      ],
      "source": [
        "plt.scatter(x,abs(svd_mean-count_s),label='svd')\n",
        "plt.scatter(x,abs(chol_mean-count_s),label='Cholesky')\n",
        "plt.scatter(x,abs(qr_mean-count_s),label='QR')\n",
        "plt.scatter(x,abs(lup_mean-count_s),label='LUP')\n",
        "plt.scatter(x,abs(bi_mean-count_s),label='Ben-Izreal')\n",
        "plt.scatter(x,abs(Tru_mean-count_s),label='Numpy Inv')\n",
        "plt.title('Inverse distance from the truth',fontsize=18)\n",
        "plt.ylabel('Error',fontsize=18)\n",
        "plt.xlabel('states',fontsize=18)\n",
        "plt.legend(loc='center')\n",
        "plt.savefig(\"Danny_inversedistfromtruth.png\", dpi=300)"
      ]
    },
    {
      "cell_type": "code",
      "execution_count": null,
      "metadata": {
        "id": "-e7U5-KxwF4R",
        "colab": {
          "base_uri": "https://localhost:8080/",
          "height": 295
        },
        "outputId": "cf1c2b43-c9b0-4885-a2f6-38ca3ca95d46"
      },
      "outputs": [
        {
          "output_type": "display_data",
          "data": {
            "text/plain": [
              "<Figure size 432x288 with 1 Axes>"
            ],
            "image/png": "[encoded data removed]"
          },
          "metadata": {
            "needs_background": "light"
          }
        }
      ],
      "source": [
        "plt.scatter(x,abs(svd_mean-count_s),label='svd')\n",
        "plt.scatter(x,abs(chol_mean-count_s),label='Cholesky')\n",
        "plt.scatter(x,abs(qr_mean-count_s),label='QR')\n",
        "plt.scatter(x,abs(lup_mean-count_s),label='LUP')\n",
        "plt.scatter(x,abs(Tru_mean-count_s),label='Inv')\n",
        "plt.title('Inverse distance from the truth')\n",
        "plt.ylabel('Error')\n",
        "plt.xlabel('states')\n",
        "plt.legend(loc='center')\n",
        "plt.savefig(\"Danny_inversedistfromtruth.png\", dpi=300)"
      ]
    },
    {
      "cell_type": "markdown",
      "metadata": {
        "id": "zWoBGElWhODo"
      },
      "source": [
        "# Anthony's Problem"
      ]
    },
    {
      "cell_type": "code",
      "execution_count": null,
      "metadata": {
        "id": "KpeAyPv9hQmb"
      },
      "outputs": [],
      "source": [
        ""
      ]
    }
  ],
  "metadata": {
    "colab": {
      "collapsed_sections": [],
      "name": "CMSE 823 Project.ipynb",
      "toc_visible": true,
      "provenance": [],
      "include_colab_link": true
    },
    "kernelspec": {
      "display_name": "Python 3",
      "name": "python3"
    },
    "language_info": {
      "name": "python"
    }
  },
  "nbformat": 4,
  "nbformat_minor": 0
}